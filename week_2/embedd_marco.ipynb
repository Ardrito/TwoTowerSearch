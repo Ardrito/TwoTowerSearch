{
 "cells": [
  {
   "cell_type": "code",
   "execution_count": 17,
   "id": "01cf3324",
   "metadata": {},
   "outputs": [],
   "source": [
    "from datasets import load_dataset\n",
    "import random\n",
    "import re\n",
    "from tqdm import tqdm\n",
    "import pickle\n",
    "import pandas as pd\n",
    "import torch\n",
    "import numpy as np\n",
    "from CBOW import CBOW\n",
    "random.seed(42)\n",
    "\n"
   ]
  },
  {
   "cell_type": "code",
   "execution_count": 18,
   "id": "4839cf07",
   "metadata": {},
   "outputs": [
    {
     "data": {
      "text/plain": [
       "CBOW(\n",
       "  (embed): Embedding(76289, 128)\n",
       "  (lin): Linear(in_features=128, out_features=76289, bias=True)\n",
       ")"
      ]
     },
     "execution_count": 18,
     "metadata": {},
     "output_type": "execute_result"
    }
   ],
   "source": [
    "embedder = CBOW()\n",
    "embedder.load_state_dict(torch.load(\"checkpoints/best.pt\", weights_only=True))\n",
    "embedder.eval()"
   ]
  },
  {
   "cell_type": "code",
   "execution_count": 90,
   "id": "aeda7519",
   "metadata": {},
   "outputs": [
    {
     "data": {
      "text/plain": [
       "torch.Size([2, 128])"
      ]
     },
     "execution_count": 90,
     "metadata": {},
     "output_type": "execute_result"
    }
   ],
   "source": [
    "embedder.embed(torch.tensor((1,2))).shape"
   ]
  },
  {
   "cell_type": "code",
   "execution_count": 103,
   "id": "050e8ca9",
   "metadata": {},
   "outputs": [],
   "source": [
    "marco_test = np.load(\"marco_test.npy\",allow_pickle=True)\n",
    "marco_val = np.load(\"marco_val.npy\",allow_pickle=True)\n",
    "marco_train = np.load(\"marco_train.npy\",allow_pickle=True)"
   ]
  },
  {
   "cell_type": "code",
   "execution_count": null,
   "id": "9b9a4d57",
   "metadata": {},
   "outputs": [],
   "source": [
    "def embed(split):\n",
    "    out = []\n",
    "    for row in split:\n",
    "        emb_row = np.array([])\n",
    "        query = []\n",
    "        for word in row[1]:\n",
    "            print ()\n",
    "            query.append(np.array(embedder.embed(torch.tensor(int(word))).detach().numpy()))\n",
    "        emb_row.append(np.mean(np.array(query),axis=0))\n",
    "\n",
    "        break"
   ]
  },
  {
   "cell_type": "code",
   "execution_count": 104,
   "id": "63d8eb4a",
   "metadata": {},
   "outputs": [
    {
     "data": {
      "text/plain": [
       "torch.Size([128])"
      ]
     },
     "execution_count": 104,
     "metadata": {},
     "output_type": "execute_result"
    }
   ],
   "source": [
    "embedding = embedder.embed(torch.tensor(marco_test[0][1]))\n",
    "\n",
    "torch.mean(embedding,dim=0).shape"
   ]
  }
 ],
 "metadata": {
  "kernelspec": {
   "display_name": ".venv",
   "language": "python",
   "name": "python3"
  },
  "language_info": {
   "codemirror_mode": {
    "name": "ipython",
    "version": 3
   },
   "file_extension": ".py",
   "mimetype": "text/x-python",
   "name": "python",
   "nbconvert_exporter": "python",
   "pygments_lexer": "ipython3",
   "version": "3.12.10"
  }
 },
 "nbformat": 4,
 "nbformat_minor": 5
}
