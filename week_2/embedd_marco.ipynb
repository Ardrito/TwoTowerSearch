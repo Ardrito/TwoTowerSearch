{
 "cells": [
  {
   "cell_type": "code",
   "execution_count": 2,
   "id": "01cf3324",
   "metadata": {},
   "outputs": [],
   "source": [
    "from datasets import load_dataset\n",
    "import random\n",
    "import re\n",
    "from tqdm import tqdm\n",
    "import pickle\n",
    "import pandas as pd\n",
    "import torch\n",
    "import numpy as np\n",
    "from CBOW import CBOW\n",
    "random.seed(42)\n",
    "\n"
   ]
  },
  {
   "cell_type": "code",
   "execution_count": 3,
   "id": "4839cf07",
   "metadata": {},
   "outputs": [
    {
     "data": {
      "text/plain": [
       "CBOW(\n",
       "  (embed): Embedding(76289, 128)\n",
       "  (lin): Linear(in_features=128, out_features=76289, bias=True)\n",
       ")"
      ]
     },
     "execution_count": 3,
     "metadata": {},
     "output_type": "execute_result"
    }
   ],
   "source": [
    "embedder = CBOW()\n",
    "embedder.load_state_dict(torch.load(\"checkpoints/best.pt\", weights_only=True))\n",
    "embedder.eval()"
   ]
  },
  {
   "cell_type": "code",
   "execution_count": 9,
   "id": "aeda7519",
   "metadata": {},
   "outputs": [
    {
     "data": {
      "text/plain": [
       "tensor([ 2.6927e-01,  6.4169e-01,  1.5833e-02,  2.3851e-02, -7.6119e-02,\n",
       "         3.3994e-02, -8.3120e-03,  3.8405e-02,  9.9305e-04,  6.6407e-02,\n",
       "        -1.4981e-01,  1.2466e-01,  2.3364e+00, -1.7049e-02, -1.8908e-03,\n",
       "        -8.9588e-02,  7.3653e-02, -1.0089e-01, -1.3808e-01,  3.0814e-02,\n",
       "         1.3951e+00,  9.0936e-02, -5.5495e-02,  3.6312e-02, -2.0187e-02,\n",
       "        -2.9820e-03,  7.1963e-02,  6.7054e-02, -2.2328e-01,  7.3380e-02,\n",
       "         1.6999e-01, -2.2405e-01, -2.0237e-01, -7.8244e-02,  1.5839e-02,\n",
       "        -2.8917e-02,  3.1060e-01,  3.2517e-02,  6.0663e-02, -5.3835e-02,\n",
       "        -2.0747e-01, -4.6751e-03,  7.6952e-02,  7.5120e-02,  2.2164e-02,\n",
       "        -1.7107e+00, -1.8869e-02, -9.6086e-03, -2.3375e-01, -1.6347e-01,\n",
       "        -6.8893e-02, -1.9928e-01,  6.6687e-02,  3.6176e-01,  2.9148e-02,\n",
       "        -1.3987e-01,  1.4758e-02, -1.2671e+00,  1.0844e-01,  1.1144e+00,\n",
       "        -1.5163e-01, -7.7982e-02,  1.6243e-01,  1.7258e-02, -1.1505e-01,\n",
       "         2.7054e-01, -5.7471e-03, -4.5016e-02, -4.1358e-02, -2.2744e-02,\n",
       "        -3.2780e-02,  2.0094e-03, -1.0436e-01,  2.1628e-01,  1.3801e-01,\n",
       "         8.1915e-02,  9.4137e-02, -2.3789e-02, -1.1229e-01, -3.7627e-02,\n",
       "         1.8775e-01, -1.6190e-02, -3.3676e-02, -1.8022e-01, -9.3765e-02,\n",
       "         2.6931e-02, -3.8310e-02,  1.5807e-01,  2.1395e-01,  6.9325e-02,\n",
       "         2.4354e-02,  1.2515e-01,  1.0444e-01, -1.6117e-01, -1.9901e-01,\n",
       "        -9.5860e-02,  1.3100e-01, -1.1309e-01, -8.8547e-02,  9.6252e-02,\n",
       "        -2.6235e-01, -3.2664e-02,  7.8156e-04, -2.1370e-01, -1.3466e-01,\n",
       "        -6.1197e-01, -3.6840e-02, -9.0006e-03, -1.2989e-01,  1.4283e-01,\n",
       "         2.6420e-02,  6.1037e-02, -2.4090e-01, -5.2048e-02, -1.3522e-01,\n",
       "         1.9513e-01,  1.2311e-01,  5.2088e-02, -1.5850e-01, -4.6647e-02,\n",
       "         6.4948e-02,  1.2267e-01,  1.3340e-01,  4.1085e-02,  3.0673e-02,\n",
       "        -5.8187e-02,  7.9122e-02,  5.8895e-02], grad_fn=<EmbeddingBackward0>)"
      ]
     },
     "execution_count": 9,
     "metadata": {},
     "output_type": "execute_result"
    }
   ],
   "source": [
    "embedder.embed(torch.tensor(1))"
   ]
  },
  {
   "cell_type": "code",
   "execution_count": null,
   "id": "a92c2ca3",
   "metadata": {},
   "outputs": [],
   "source": [
    "test_df = pd.read_csv(\"tokenized_marco/tokenized_marco_test.csv\")\n",
    "\n"
   ]
  },
  {
   "cell_type": "code",
   "execution_count": null,
   "id": "050e8ca9",
   "metadata": {},
   "outputs": [],
   "source": [
    "marco_test = np.load(\"marco_test.npy\",allow_pickle=True)\n",
    "marco_val = np.load(\"marco_val.npy\",allow_pickle=True)\n",
    "marco_train = np.load(\"marco_train.npy\",allow_pickle=True)"
   ]
  },
  {
   "cell_type": "code",
   "execution_count": null,
   "id": "9b9a4d57",
   "metadata": {},
   "outputs": [
    {
     "data": {
      "text/plain": [
       "0.0"
      ]
     },
     "execution_count": 14,
     "metadata": {},
     "output_type": "execute_result"
    }
   ],
   "source": []
  }
 ],
 "metadata": {
  "kernelspec": {
   "display_name": ".venv",
   "language": "python",
   "name": "python3"
  },
  "language_info": {
   "codemirror_mode": {
    "name": "ipython",
    "version": 3
   },
   "file_extension": ".py",
   "mimetype": "text/x-python",
   "name": "python",
   "nbconvert_exporter": "python",
   "pygments_lexer": "ipython3",
   "version": "3.12.10"
  }
 },
 "nbformat": 4,
 "nbformat_minor": 5
}
