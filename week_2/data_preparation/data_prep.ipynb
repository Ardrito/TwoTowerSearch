{
 "cells": [
  {
   "cell_type": "code",
   "execution_count": 1,
   "metadata": {},
   "outputs": [
    {
     "name": "stderr",
     "output_type": "stream",
     "text": [
      "/root/TwoTowerSearch/venv/lib/python3.10/site-packages/tqdm/auto.py:21: TqdmWarning: IProgress not found. Please update jupyter and ipywidgets. See https://ipywidgets.readthedocs.io/en/stable/user_install.html\n",
      "  from .autonotebook import tqdm as notebook_tqdm\n"
     ]
    }
   ],
   "source": [
    "import pandas as pd\n",
    "import numpy as np\n",
    "\n",
    "from datasets import load_dataset\n"
   ]
  },
  {
   "cell_type": "code",
   "execution_count": 9,
   "metadata": {},
   "outputs": [],
   "source": [
    "train_dataset = load_dataset('ms_marco', 'v1.1', split='train')\n",
    "test_dataset = load_dataset('ms_marco', 'v1.1', split='test')"
   ]
  },
  {
   "cell_type": "code",
   "execution_count": 10,
   "metadata": {},
   "outputs": [
    {
     "data": {
      "text/plain": [
       "{'is_selected': [0, 0, 1, 0, 0, 0, 0],\n",
       " 'passage_text': ['We have been feeding our back yard squirrels for the fall and winter and we noticed that a few of them have missing fur. One has a patch missing down his back and under both arms. Also another has some missing on his whole chest. They are all eating and seem to have a good appetite.',\n",
       "  'Critters cannot stand the smell of human hair, so sprinkling a barrier of hair clippings around your garden, or lightly working it into the soil when you plant bulbs, apparently does have some merit. The whole thing kind of makes me laugh. It never occurred to me that we are the ones that stink.',\n",
       "  \"Spread some human hair around your vegetable and flower gardens. This will scare the squirrels away because humans are predators of squirrels. It is better if the hair hasn't been washed so the squirrels will easily pick up the human scent.\",\n",
       "  '1 You can sprinkle blood meal around your garden as well. 2  Don’t trap and relocate squirrels. 3  This is a losing battle since the population of squirrels is extremely high. 4  Also, if the animal is a female there is a high likelihood that you will remove her from babies that depend on her for survival.',\n",
       "  'Hair loss in squirrels can be caused by mange or fungal disease. Mange is a disease caused by microscopic mites that burrow under the skin. The squirrel mange mite has been reported in both fox and gray squirrels. There have been no reports of this type of mange being transmitted to humans or domestic pets.',\n",
       "  '1 You can also scatter dog or human hair around your garden. 2  One readers shares, “I used to have a problem with squirrels digging up my bulbs. 3  Now, once in the spring and once in the fall, I ask my hairdresser to save a big bag of hair for me. 4  I lightly dig this into the soil.',\n",
       "  'Rabbit repellent. Human hair will keep rabbits out of your garden!! Collect hair from your brushes and spread it around your garden! (via Pioneer Thinking). Natural mulch. When woven into a mat, it retains moisture, it deters weeds. In some instances, it can actually reduce soil erosion. (via NPR). Plant fertilizer.'],\n",
       " 'url': ['http://web.extension.illinois.edu/askextension/thisQuestion.cfm?ThreadID=18526&catID=213&AskSiteID=90',\n",
       "  'http://www.onehundreddollarsamonth.com/has-anyone-tried-using-hair-to-keep-squirrels-and-deer-out-of-your-garden/',\n",
       "  'http://www.gardenguides.com/106838-rid-ground-squirrels-tomato-plants-flowers.html',\n",
       "  'http://www.almanac.com/content/squirrels',\n",
       "  'http://web.extension.illinois.edu/askextension/thisQuestion.cfm?ThreadID=15895&catID=213&AskSiteID=90',\n",
       "  'http://www.almanac.com/content/squirrels',\n",
       "  'http://www.mnn.com/your-home/organic-farming-gardening/blogs/is-human-hair-good-for-your-garden']}"
      ]
     },
     "execution_count": 10,
     "metadata": {},
     "output_type": "execute_result"
    }
   ],
   "source": [
    "# view structure of the passages column in the dataset\n",
    "texts = test_dataset['passages'][0]\n",
    "texts\n"
   ]
  },
  {
   "cell_type": "code",
   "execution_count": 11,
   "metadata": {},
   "outputs": [],
   "source": [
    "import random\n",
    "\n",
    "def create_triplets(dataset):\n",
    "    \"\"\"\n",
    "    Create (query, positive_passage, negative_passage) triplets from the given dataset.\n",
    "    \n",
    "    Args:\n",
    "        dataset (list of dict): Each item should have 'Query' and 'Passages' keys. \n",
    "                                'Passages' must contain 'is_selected' and 'passage_text'.\n",
    "    \n",
    "    Returns:\n",
    "        list of tuples: Each tuple is (query, positive_passage, negative_passage)\n",
    "    \"\"\"\n",
    "    all_passages = []\n",
    "\n",
    "    # Pre-collect all passages for negative sampling\n",
    "    for row in dataset:\n",
    "        all_passages.extend(row['passages']['passage_text'])\n",
    "\n",
    "\n",
    "    triplets = []\n",
    "\n",
    "    for row in dataset:\n",
    "        query = row['query']\n",
    "        passages = row['passages']['passage_text']\n",
    "        labels = row['passages']['is_selected']\n",
    "\n",
    "        # Find the index of the positive passage\n",
    "        if 1 not in labels:\n",
    "            continue  # Skip if no positive passage\n",
    "        pos_index = labels.index(1)\n",
    "        positive = passages[pos_index]\n",
    "\n",
    "        # Select a random negative passage (ensuring it's not from the same row)\n",
    "        while True:\n",
    "            negative = random.choice(all_passages)\n",
    "            if negative != positive and negative not in passages:\n",
    "                break\n",
    "\n",
    "        triplets.append((query, positive, negative))\n",
    "\n",
    "    return triplets\n"
   ]
  },
  {
   "cell_type": "code",
   "execution_count": 12,
   "metadata": {},
   "outputs": [
    {
     "name": "stdout",
     "output_type": "stream",
     "text": [
      "Query: does human hair stop squirrels\n",
      "Positive: Spread some human hair around your vegetable and flower gardens. This will scare the squirrels away because humans are predators of squirrels. It is better if the hair hasn't been washed so the squirrels will easily pick up the human scent.\n",
      "Negative: Geography [edit]. Eastern Highlands Province is made up of rugged mountain terrain and broad valleys. It has low coastal areas in the Markham and Ramu valleys. The Province's two highest peaks, Mt Tabletop and Mt Michael are located on Kratke and Bismarck Range respectively. The province derives most of its revenue from the production of coffee. Eastern Highlands is the leading producer of coffee in the region. It produces large quantities of coffee annually for export.\n",
      "----------------------------------------\n",
      "Query: what are the benefits of fossil fuels\n",
      "Positive: Benefits of fossil fuels. Fossil fuels are basically the remains of animals and plants and these are good energy resources. The three main fossil fuels are natural gas, oil, and coal. Fossil fuels are low in cost and are very important resources for our economy. Fossil fuels are used to generate electricity used as fuels for transportation.\n",
      "Negative: All clay is a ceramic material, but there are other ceramic materials, as well. Glazes are also ceramic materials, because they permanently change during firing. Industrial ceramics include a range of materials such as silica carbide and zirconium oxide. \n",
      "----------------------------------------\n",
      "Query: what is a apothem\n",
      "Positive: Apothem of a hexagon. The apothem of a regular polygon is a line segment from the center to the midpoint of one of its sides. Equivalently, it is the line drawn from the center of the polygon that is perpendicular to one of its sides. The word apothem can also refer to the length of that line segment. Because of this, all the apothems in a polygon will be congruent. For a regular pyramid, which is a pyramid whose base is a regular polygon, the apothem is the slant height of a lateral face; that is, the shortest distance from apex to base on a given face.\n",
      "Negative: INTRODUCTION. Volumetrically, most lava is of basaltic composition. Basaltic melts have overall lower gas contents and are more fluid than their andesitic-to-rhyolitic counterparts. Their higher fluidity (lower viscosity) is a product of their lower SiO 2 (silica) contents.\n",
      "----------------------------------------\n"
     ]
    }
   ],
   "source": [
    "\n",
    "# Generate triplets\n",
    "train_triplets = create_triplets(train_dataset)\n",
    "test_triplets = create_triplets(test_dataset)\n",
    "\n",
    "# Print a sample\n",
    "for t in test_triplets[:3]:\n",
    "    print(f\"Query: {t[0]}\\nPositive: {t[1]}\\nNegative: {t[2]}\\n{'-'*40}\")\n"
   ]
  },
  {
   "cell_type": "code",
   "execution_count": 13,
   "metadata": {},
   "outputs": [],
   "source": [
    "from data_prep import save_triplets_to_json, load_triplets_from_json\n",
    "\n",
    "# Save triplets\n",
    "save_triplets_to_json(train_triplets, \"train_triplets.json\")\n",
    "save_triplets_to_json(test_triplets, \"test_triplets.json\")"
   ]
  }
 ],
 "metadata": {
  "kernelspec": {
   "display_name": "venv",
   "language": "python",
   "name": "python3"
  },
  "language_info": {
   "codemirror_mode": {
    "name": "ipython",
    "version": 3
   },
   "file_extension": ".py",
   "mimetype": "text/x-python",
   "name": "python",
   "nbconvert_exporter": "python",
   "pygments_lexer": "ipython3",
   "version": "3.10.12"
  }
 },
 "nbformat": 4,
 "nbformat_minor": 2
}
