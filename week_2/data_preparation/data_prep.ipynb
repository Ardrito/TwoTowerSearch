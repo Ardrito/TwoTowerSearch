{
 "cells": [
  {
   "cell_type": "code",
   "execution_count": 1,
   "metadata": {},
   "outputs": [
    {
     "name": "stderr",
     "output_type": "stream",
     "text": [
      "/root/TwoTowerSearch/venv/lib/python3.10/site-packages/tqdm/auto.py:21: TqdmWarning: IProgress not found. Please update jupyter and ipywidgets. See https://ipywidgets.readthedocs.io/en/stable/user_install.html\n",
      "  from .autonotebook import tqdm as notebook_tqdm\n"
     ]
    }
   ],
   "source": [
    "import pandas as pd\n",
    "import numpy as np\n",
    "\n",
    "from datasets import load_dataset\n"
   ]
  },
  {
   "cell_type": "code",
   "execution_count": 28,
   "metadata": {},
   "outputs": [],
   "source": [
    "train_dataset = load_dataset('ms_marco', 'v1.1', split='train')\n",
    "test_dataset = load_dataset('ms_marco', 'v1.1', split='test')"
   ]
  },
  {
   "cell_type": "code",
   "execution_count": 10,
   "metadata": {},
   "outputs": [
    {
     "data": {
      "text/plain": [
       "{'is_selected': [0, 0, 1, 0, 0, 0, 0],\n",
       " 'passage_text': ['We have been feeding our back yard squirrels for the fall and winter and we noticed that a few of them have missing fur. One has a patch missing down his back and under both arms. Also another has some missing on his whole chest. They are all eating and seem to have a good appetite.',\n",
       "  'Critters cannot stand the smell of human hair, so sprinkling a barrier of hair clippings around your garden, or lightly working it into the soil when you plant bulbs, apparently does have some merit. The whole thing kind of makes me laugh. It never occurred to me that we are the ones that stink.',\n",
       "  \"Spread some human hair around your vegetable and flower gardens. This will scare the squirrels away because humans are predators of squirrels. It is better if the hair hasn't been washed so the squirrels will easily pick up the human scent.\",\n",
       "  '1 You can sprinkle blood meal around your garden as well. 2  Don’t trap and relocate squirrels. 3  This is a losing battle since the population of squirrels is extremely high. 4  Also, if the animal is a female there is a high likelihood that you will remove her from babies that depend on her for survival.',\n",
       "  'Hair loss in squirrels can be caused by mange or fungal disease. Mange is a disease caused by microscopic mites that burrow under the skin. The squirrel mange mite has been reported in both fox and gray squirrels. There have been no reports of this type of mange being transmitted to humans or domestic pets.',\n",
       "  '1 You can also scatter dog or human hair around your garden. 2  One readers shares, “I used to have a problem with squirrels digging up my bulbs. 3  Now, once in the spring and once in the fall, I ask my hairdresser to save a big bag of hair for me. 4  I lightly dig this into the soil.',\n",
       "  'Rabbit repellent. Human hair will keep rabbits out of your garden!! Collect hair from your brushes and spread it around your garden! (via Pioneer Thinking). Natural mulch. When woven into a mat, it retains moisture, it deters weeds. In some instances, it can actually reduce soil erosion. (via NPR). Plant fertilizer.'],\n",
       " 'url': ['http://web.extension.illinois.edu/askextension/thisQuestion.cfm?ThreadID=18526&catID=213&AskSiteID=90',\n",
       "  'http://www.onehundreddollarsamonth.com/has-anyone-tried-using-hair-to-keep-squirrels-and-deer-out-of-your-garden/',\n",
       "  'http://www.gardenguides.com/106838-rid-ground-squirrels-tomato-plants-flowers.html',\n",
       "  'http://www.almanac.com/content/squirrels',\n",
       "  'http://web.extension.illinois.edu/askextension/thisQuestion.cfm?ThreadID=15895&catID=213&AskSiteID=90',\n",
       "  'http://www.almanac.com/content/squirrels',\n",
       "  'http://www.mnn.com/your-home/organic-farming-gardening/blogs/is-human-hair-good-for-your-garden']}"
      ]
     },
     "execution_count": 10,
     "metadata": {},
     "output_type": "execute_result"
    }
   ],
   "source": [
    "# view structure of the passages column in the dataset\n",
    "texts = test_dataset['passages'][0]\n",
    "texts\n"
   ]
  },
  {
   "cell_type": "code",
   "execution_count": 22,
   "metadata": {},
   "outputs": [],
   "source": [
    "import random\n",
    "\n",
    "def create_triplets(dataset, include_hard_negatives=False, num_hard_negatives=3):\n",
    "    \"\"\"\n",
    "    Create (query, positive_passage, negative_passage) triplets from the given dataset.\n",
    "    For training, add additional triplets with in-row \"hard\" negatives.\n",
    "    \n",
    "    Args:\n",
    "        dataset (list of dict): Each item should have 'Query' and 'Passages' keys. \n",
    "                                'Passages' must contain 'is_selected' and 'passage_text'.\n",
    "        include_hard_negatives (bool): Whether to add hard negative samples (for training only)\n",
    "        num_hard_negatives (int): Number of hard negatives to sample per positive (if available)\n",
    "    \n",
    "    Returns:\n",
    "        list of tuples: Each tuple is (query, positive_passage, negative_passage)\n",
    "    \"\"\"\n",
    "    all_passages = []\n",
    "\n",
    "    # Pre-collect all passages for negative sampling\n",
    "    for row in dataset:\n",
    "        all_passages.extend(row['passages']['passage_text'])\n",
    "\n",
    "    triplets = []\n",
    "\n",
    "    for row in dataset:\n",
    "        query = row['query']\n",
    "        passages = row['passages']['passage_text']\n",
    "        labels = row['passages']['is_selected']\n",
    "\n",
    "        # Find the index of the positive passage\n",
    "        if 1 not in labels:\n",
    "            continue  # Skip if no positive passage\n",
    "        pos_index = labels.index(1)\n",
    "        positive = passages[pos_index]\n",
    "\n",
    "        # Select a random negative passage (ensuring it's not from the same row)\n",
    "        while True:\n",
    "            negative = random.choice(all_passages)\n",
    "            if negative != positive and negative not in passages:\n",
    "                break\n",
    "\n",
    "        triplets.append((query, positive, negative))\n",
    "\n",
    "        if include_hard_negatives:\n",
    "            # Create additional triplets with in-row negatives (if available)\n",
    "            non_selected_indices = [i for i, label in enumerate(labels) if label == 0]\n",
    "            \n",
    "            if non_selected_indices:\n",
    "                # Sample up to num_hard_negatives unique in-row negatives\n",
    "                # (or fewer if not enough are available)\n",
    "                sampled_indices = random.sample(\n",
    "                    non_selected_indices, \n",
    "                    min(num_hard_negatives, len(non_selected_indices))\n",
    "                )\n",
    "                \n",
    "                for neg_index in sampled_indices:\n",
    "                    in_row_negative = passages[neg_index]\n",
    "                    triplets.append((query, positive, in_row_negative))\n",
    "\n",
    "    return triplets"
   ]
  },
  {
   "cell_type": "code",
   "execution_count": 23,
   "metadata": {},
   "outputs": [
    {
     "name": "stdout",
     "output_type": "stream",
     "text": [
      "TRAINING TRIPLETS (stage 1):\n",
      "Query: what is rba\n",
      "Positive: Results-Based Accountability® (also known as RBA) is a disciplined way of thinking and taking action that communities can use to improve the lives of children, youth, families, adults and the community as a whole. RBA is also used by organizations to improve the performance of their programs. Creating Community Impact with RBA. Community impact focuses on conditions of well-being for children, families and the community as a whole that a group of leaders is working collectively to improve. For example: “Residents with good jobs,” “Children ready for school,” or “A safe and clean neighborhood”.\n",
      "Negative: However, an adult can have this type of eczema as well. Flare-ups of this type of eczema can be caused by irritants, allergens, stress, fabrics, and dry skin, to name just a few. If you have food allergies, you may be more likely to experience eczema flare-ups. While it can be difficult to isolate what irritants or allergens cause a flare-up, it can be important for dealing with atopic dermatitis. For irritants, everything from bar soap to laundry soap and to perfume and cigarette smoke can cause\n",
      "----------------------------------------\n",
      "Query: was ronald reagan a democrat\n",
      "Positive: From Wikipedia, the free encyclopedia. A Reagan Democrat is a traditionally Democratic voter in the United States, especially a white working-class Northerner, who defected from their party to support Republican President Ronald Reagan in either or both the 1980 and 1984 elections. During the 1980 election a dramatic number of voters in the U.S., disillusioned with the economic 'malaise' of the 1970s and the presidency of Jimmy Carter (even more than, four years earlier, Liberal Republican Gerald Ford), supported former California governor (and former Democrat) Ronald Reagan.\n",
      "Negative: Dracunculiasis: Dracunculiasis, more commonly known as Guinea worm disease, is a preventable infection caused by the parasite Dracunculus medinensis. Infection affects poor communities in remote parts of Africa that do not have safe water to drink. Dracunculiasis (dra-KUNK-you-LIE-uh-sis), more commonly called Guinea worm disease, is a parasitic infection caused by Dracunculus medinensis (a long, thin worm). Infection is seen when the adult worm emerges through the skin of an infected person. Worms grow up to 3 feet long and are as wide as a paper clip wire\n",
      "----------------------------------------\n",
      "Query: how long do you need for sydney and surrounding areas\n",
      "Positive: Sydney is the capital city of the Australian state of New South Wales, and Australia's largest city. A week in Sydney will help you see many of the sights of Sydney and its surrounds, and understand the city and its culture. If you're up for exploring the area by bike (one of the best ways to do so as much of it is parkland), take the train to Concord West station on the Northern Line (red line on the Sydney Trains map-about 20-25 minutes from the city on a direct train).\n",
      "Negative: Chlorophyll is the molecule that absorbs sunlight and uses its energy to synthesise carbohydrates from CO 2 and water. This process is known as photosynthesis and is the basis for sustaining the life processes of all plants. Chlorophyll is the molecule that traps this 'most elusive of all powers' - and is called a photoreceptor. It is found in the chloroplasts of green plants, and is what makes green plants, green. The basic structure of a chlorophyll molecule is a porphyrin ring, co-ordinated to a central atom.\n",
      "----------------------------------------\n",
      "Query: price to install tile in shower\n",
      "Positive: 1 Install ceramic tile floor to match shower-Average prices for installation are between $11 to $22 per square foot; 2  A light/fan combination-Averages at $180 and one hour of installation; 3  Insulate and re-finish ceilings and walls-Fiberglass wall insulation with R-30 value will cost $2.25 per square foot.\n",
      "Negative: Bratislava lies on the border of two other countries and has a relatively good road system. The town can be accessed by motorways (i.e. limited access highway) from northern Slovakia and Poland, Czech Republic, Hungary as well as Austria. As a result, you can pass the town without having to leave the motorway at all. 1 The public transport company of Bratislava (DPB) runs a cross-border bus line no. 901 between Hainburg an der Donau (Austria) and Bratislava, with a stop in the Austrian town of Wolfsthal. 2  In Bratislava, the terminus is the stop Nový most. 3  Price is 1,50€/one way or 2,90€/return.\n",
      "----------------------------------------\n",
      "Query: why conversion observed in body\n",
      "Positive: Conversion disorder is a type of somatoform disorder where physical symptoms or signs are present that cannot be explained by a medical condition. Very importantly, unlike factitious disorders and malingering, the symptoms of somatoform disorders are not intentional or under conscious control of the patient.\n",
      "Negative: 3 Salary patterns Annual remuneration by city Our survey suggests that students working in some of India’s largest cities – Bangalore, Chennai and Mumbai – earn 9%, 9% and 13% more in total salary respectively than the average for CIMA students in India. On average, CIMA members in India are earning over Rs. 30 lakhs per annum, while students on average earn Rs. 10.9 lakhs per year. The 2013 survey figures for average total pay package for students represent an 8.8% increase compared with last year.\n",
      "----------------------------------------\n",
      "Query: where are the lungs located in the back\n",
      "Positive: 1. Get help from a doctor now ›. under ribs: The lungs in the front and back are inside the rib cage. This is why doctors will place a stethoscope on the back as well as the front to evaluate the function of the lungs. ...Read more. 1 Where are your kidneys located on your back in women. 2  Where are the lungs located in the back. 3  Where are lungs located in your body. 4  Ask a doctor a question free online. 5  Where are the lungs located in the human body.\n",
      "Negative: Terra Vista Realty can assist you in analyzing area home values. We can help you with all aspects of buying or selling a home in this and other neighborhoods in Charlotte, North Carolina or Mecklenburg County – including homes for sale in the 28211 ZIP code area.\n",
      "----------------------------------------\n",
      "Query: cost to get a patent\n",
      "Positive: The cost of a patent can vary widely depending on, not only the complexity of the invention, but also the intended market. The most expensive patents are international patents, which can run up to $100,000 or higher. Domestically the costs can be $10,000 or above. Patent applications involve lots of text and drawings, even for simpler inventions. The first step in the patent application process is to file a non provisional patent application, which involves paying attorney fees in the range of $5000 to $15,000 or more, depending on the intricacies of the invention. The amount you spend on a patent application will also depend on the market opportunities\n",
      "Negative: Growth hormone (GH or HGH), also known as somatotropin or somatropin, is a peptide hormone that stimulates growth, cell reproduction and regeneration in humans and other animals. It is a type of mitogen which is specific only to certain kinds of cells. In recent years in the United States, some doctors have started to prescribe growth hormone in GH-deficient older patients (but not on healthy people) to increase vitality. While legal, the efficacy and safety of this use for HGH has not been tested in a clinical trial.\n",
      "----------------------------------------\n",
      "Query: best tragedies of ancient greece\n",
      "Positive: by Mark Cartwright. Greek tragedy was a popular and influential form of drama performed in theatres across ancient Greece from the late 6th century BCE. The most famous playwrights of the genre were Aeschylus, Sophocles, and Euripides and many of their works were still performed centuries after their initial premiere. Greek tragedy led to Greek comedy and, together, these genres formed the foundation upon which all modern theatre is based. In the Roman world, tragedy plays were translated and imitated in Latin, and the genre gave rise to a new art form from the 1st century BCE, pantomime, which drew inspiration from the presentation and subject matter of Greek tragedy.\n",
      "Negative: They called the pens Cliffy Biros and Neil says somehow that became Biffy Clyro. The band's sixth studio album, Opposites, will be released on 28th January 2013. The box set includes twenty songs spread across two CDs. Just in-Biffy Clyro drummer and vocalist Ben Johnston recently revealed that his drinking problem nearly derailed the success of the band.\n",
      "----------------------------------------\n",
      "Query: what is a conifer\n",
      "Positive: A conifer is a tree or shrub which produces distinctive cones as part of its sexual reproduction. These woody plants are classified among the gymnosperms, and they have a wide variety of uses, from trapping carbon in the environment to providing resins which can be used in the production of solvents. Several features beyond the cones set conifers apart from other types of woody plants. A conifer is typically evergreen, although some individuals are deciduous, and almost all conifers have needle or scale-like leaves.\n",
      "Negative: John Tyler’s Early Life and Family. John Tyler was born on March 29, 1790, at his family’s plantation, Greenway, in Charles City County, Virginia. He was the son of John Tyler Sr. (1747-1813), a prosperous planter and Virginia politician, and Mary Armistead (1761-97).\n",
      "----------------------------------------\n",
      "Query: in animals somatic cells are produced by and gametic cells are produced by\n",
      "Positive: In animals, somatic cells are produced by mitosis and ________ are produced by meiosis. After telophase I of meiosis, the chromosomal makeup of each daughter cell is. A) diploid, and the chromosomes are composed of a single chromatid. B) diploid, and the chromosomes are composed of two chromatids. C) ha\n",
      "Negative: If a misdemeanor is considered a very minor offense, such as jaywalking, the crime may be classified as a petty offense. There’s a wide variety of crimes that are considered misdemeanors in most states. Some common misdemeanors include: 1  Public intoxication. 2  Trespassing. 3  Speeding. 4  Prostitution. 5  Vandalism. \n",
      "----------------------------------------\n",
      "\n",
      "TRAINING TRIPLETS (stage 2):\n",
      "Query: what is rba\n",
      "Positive: Results-Based Accountability® (also known as RBA) is a disciplined way of thinking and taking action that communities can use to improve the lives of children, youth, families, adults and the community as a whole. RBA is also used by organizations to improve the performance of their programs. Creating Community Impact with RBA. Community impact focuses on conditions of well-being for children, families and the community as a whole that a group of leaders is working collectively to improve. For example: “Residents with good jobs,” “Children ready for school,” or “A safe and clean neighborhood”.\n",
      "Negative: Rating Newest Oldest. Best Answer: You italicize or underline titles of longer works, such as movie titles, book titles, longer poems (like The Odyssey), album names, etc. Use quotation marks for shorter works like short poems, chapters of a book, magazine articles, etc. Source(s): I'm an English teacher. lil_miss_education · 9 years ago.\n",
      "----------------------------------------\n",
      "Query: what is rba\n",
      "Positive: Results-Based Accountability® (also known as RBA) is a disciplined way of thinking and taking action that communities can use to improve the lives of children, youth, families, adults and the community as a whole. RBA is also used by organizations to improve the performance of their programs. Creating Community Impact with RBA. Community impact focuses on conditions of well-being for children, families and the community as a whole that a group of leaders is working collectively to improve. For example: “Residents with good jobs,” “Children ready for school,” or “A safe and clean neighborhood”.\n",
      "Negative: The Reserve Bank of Australia (RBA) came into being on 14 January 1960 as Australia 's central bank and banknote issuing authority, when the Reserve Bank Act 1959 removed the central banking functions from the Commonwealth Bank. The assets of the bank include the gold and foreign exchange reserves of Australia, which is estimated to have a net worth of A$101 billion. Nearly 94% of the RBA's employees work at its headquarters in Sydney, New South Wales and at the Business Resumption Site.\n",
      "----------------------------------------\n",
      "Query: what is rba\n",
      "Positive: Results-Based Accountability® (also known as RBA) is a disciplined way of thinking and taking action that communities can use to improve the lives of children, youth, families, adults and the community as a whole. RBA is also used by organizations to improve the performance of their programs. Creating Community Impact with RBA. Community impact focuses on conditions of well-being for children, families and the community as a whole that a group of leaders is working collectively to improve. For example: “Residents with good jobs,” “Children ready for school,” or “A safe and clean neighborhood”.\n",
      "Negative: RBA Recognized with the 2014 Microsoft US Regional Partner of the ... by PR Newswire. Contract Awarded for supply and support the. Securitisations System used for risk management and analysis. \n",
      "----------------------------------------\n",
      "Query: what is rba\n",
      "Positive: Results-Based Accountability® (also known as RBA) is a disciplined way of thinking and taking action that communities can use to improve the lives of children, youth, families, adults and the community as a whole. RBA is also used by organizations to improve the performance of their programs. Creating Community Impact with RBA. Community impact focuses on conditions of well-being for children, families and the community as a whole that a group of leaders is working collectively to improve. For example: “Residents with good jobs,” “Children ready for school,” or “A safe and clean neighborhood”.\n",
      "Negative: Get To Know Us. RBA is a digital and technology consultancy with roots in strategy, design and technology. Our team of specialists help progressive companies deliver modern digital experiences backed by proven technology engineering. \n",
      "----------------------------------------\n",
      "Query: was ronald reagan a democrat\n",
      "Positive: From Wikipedia, the free encyclopedia. A Reagan Democrat is a traditionally Democratic voter in the United States, especially a white working-class Northerner, who defected from their party to support Republican President Ronald Reagan in either or both the 1980 and 1984 elections. During the 1980 election a dramatic number of voters in the U.S., disillusioned with the economic 'malaise' of the 1970s and the presidency of Jimmy Carter (even more than, four years earlier, Liberal Republican Gerald Ford), supported former California governor (and former Democrat) Ronald Reagan.\n",
      "Negative: The January Birthstone, garnet is a deep red crystal, a revered and popular precious stone. The Garnet has long been used as a talisman for protection by tribes and sects. According to legend, possessing or wearing a garnet ensures success and health, for the stone is believed to possess curative powers. Value Of January Birthstone. The garnet is a semi-precious stone, a popular gem used in jewelry, artifacts and furnishing. Its fantastic range of colors, crystal structure and intensity makes this a coveted possession in many homes. The most expensive gemstone is the brilliant green garnet, the Demantoid.\n",
      "----------------------------------------\n",
      "Query: was ronald reagan a democrat\n",
      "Positive: From Wikipedia, the free encyclopedia. A Reagan Democrat is a traditionally Democratic voter in the United States, especially a white working-class Northerner, who defected from their party to support Republican President Ronald Reagan in either or both the 1980 and 1984 elections. During the 1980 election a dramatic number of voters in the U.S., disillusioned with the economic 'malaise' of the 1970s and the presidency of Jimmy Carter (even more than, four years earlier, Liberal Republican Gerald Ford), supported former California governor (and former Democrat) Ronald Reagan.\n",
      "Negative: Ronald Reagan (1911-2004), a former actor and California governor, served as the 40th U.S. president from 1981 to 1989. Raised in small-town Illinois, he became a Hollywood actor in his 20s and later served as the Republican governor of California from 1967 to 1975. In November 1984, Ronald Reagan was reelected in a landslide, defeating Walter Mondale and his running mate Geraldine Ferraro (1935-), the first female vice-presidential candidate from a major U.S. political party.\n",
      "----------------------------------------\n",
      "Query: was ronald reagan a democrat\n",
      "Positive: From Wikipedia, the free encyclopedia. A Reagan Democrat is a traditionally Democratic voter in the United States, especially a white working-class Northerner, who defected from their party to support Republican President Ronald Reagan in either or both the 1980 and 1984 elections. During the 1980 election a dramatic number of voters in the U.S., disillusioned with the economic 'malaise' of the 1970s and the presidency of Jimmy Carter (even more than, four years earlier, Liberal Republican Gerald Ford), supported former California governor (and former Democrat) Ronald Reagan.\n",
      "Negative: When Reagan was a 'liberal Democrat'. In 1948, a very different sounding Ronald Reagan campaigned on the radio for Democrat Harry Truman. Listen to the old audio recording. ... more Duration: {{video.duration.momentjs}}. \n",
      "----------------------------------------\n",
      "Query: was ronald reagan a democrat\n",
      "Positive: From Wikipedia, the free encyclopedia. A Reagan Democrat is a traditionally Democratic voter in the United States, especially a white working-class Northerner, who defected from their party to support Republican President Ronald Reagan in either or both the 1980 and 1984 elections. During the 1980 election a dramatic number of voters in the U.S., disillusioned with the economic 'malaise' of the 1970s and the presidency of Jimmy Carter (even more than, four years earlier, Liberal Republican Gerald Ford), supported former California governor (and former Democrat) Ronald Reagan.\n",
      "Negative: Ronald Wilson Reagan (/ˈrɒnəld ˈwɪlsən ˈreɪɡən/ ; February 6, 1911 – June 5, 2004) was an American politician, commentator, and actor, who served as the 40th President of the United States from 1981 to 1989. I think Ronald Reagan changed the trajectory of America in a way that Richard Nixon did not and in a way that Bill Clinton did not. He put us on a fundamentally different path because the country was ready for it.\n",
      "----------------------------------------\n",
      "Query: how long do you need for sydney and surrounding areas\n",
      "Positive: Sydney is the capital city of the Australian state of New South Wales, and Australia's largest city. A week in Sydney will help you see many of the sights of Sydney and its surrounds, and understand the city and its culture. If you're up for exploring the area by bike (one of the best ways to do so as much of it is parkland), take the train to Concord West station on the Northern Line (red line on the Sydney Trains map-about 20-25 minutes from the city on a direct train).\n",
      "Negative: Something about SeaWorld trainer Dawn Brancheau's ponytail may have triggered the attack. That's what an official at the Orlando marine park told reporters the day after the 16-year veteran at SeaWorld was killed by Tilikum, a 12,000-lb. (5,500 kg) killer whale. Tilikum, a killer whale at the SeaWorld amusement park in Orlando, Fla., performs during the show Believe on Sept. 3, 2009. The whale killed a trainer on Feb. 24, 2010, according to police and company executives. 1  Email. 2  Print\n",
      "----------------------------------------\n",
      "Query: how long do you need for sydney and surrounding areas\n",
      "Positive: Sydney is the capital city of the Australian state of New South Wales, and Australia's largest city. A week in Sydney will help you see many of the sights of Sydney and its surrounds, and understand the city and its culture. If you're up for exploring the area by bike (one of the best ways to do so as much of it is parkland), take the train to Concord West station on the Northern Line (red line on the Sydney Trains map-about 20-25 minutes from the city on a direct train).\n",
      "Negative: This itinerary will have you crossing the country to take in the Great Barrier Reef, Australia’s iconic reef in Queensland, before heading to Western Australia to see the breath taking Ningaloo Reef, one of Australia’s best kept secrets. View more information. 10 day-Sydney, rock and reef. It’s easy to see why Hamilton Island is one of the most popular spots for a getaway on the Great Barrier Reef. With palm-fringed beaches, top restaurants and stylish resorts, there’s plenty to do on land, while those keen to explore the clear waters of the Whitsundays will be richly rewarded.\n",
      "----------------------------------------\n",
      "\n",
      "TEST TRIPLETS:\n",
      "Query: does human hair stop squirrels\n",
      "Positive: Spread some human hair around your vegetable and flower gardens. This will scare the squirrels away because humans are predators of squirrels. It is better if the hair hasn't been washed so the squirrels will easily pick up the human scent.\n",
      "Negative: Bureau of Labor Statistics information for states that an Occupational Therapist median salary in 2010 was $72,320 a year which is about $34.77 an hour. An occupational therapist typically requires a Master’s Degree in order to get this pay and a position in the job market. This will add around 36,400 jobs to the total occupational therapy job market from 2010 – 2020. Looking at the state by state salary information for Occupational Therapists you’ll see that the highest paying states pay as much as $100,000 year.\n",
      "----------------------------------------\n",
      "Query: what are the benefits of fossil fuels\n",
      "Positive: Benefits of fossil fuels. Fossil fuels are basically the remains of animals and plants and these are good energy resources. The three main fossil fuels are natural gas, oil, and coal. Fossil fuels are low in cost and are very important resources for our economy. Fossil fuels are used to generate electricity used as fuels for transportation.\n",
      "Negative: Most often, tonsillitis is caused by a virus. Less often, it is caused by the same bacteria that cause strep throat. In rare cases, a fungus or a parasite can cause it. Tonsillitis is spread through the air in droplets when an infected person breathes, coughs, or sneezes. If your tonsillitis is caused by strep, you need treatment with antibiotics. Antibiotics can help prevent rare but serious problems caused by strep and can control the spread of infection. As a rule, doctors only advise surgery to remove tonsils (tonsillectomy) when there are serious problems with the tonsils.\n",
      "----------------------------------------\n",
      "Query: what is a apothem\n",
      "Positive: Apothem of a hexagon. The apothem of a regular polygon is a line segment from the center to the midpoint of one of its sides. Equivalently, it is the line drawn from the center of the polygon that is perpendicular to one of its sides. The word apothem can also refer to the length of that line segment. Because of this, all the apothems in a polygon will be congruent. For a regular pyramid, which is a pyramid whose base is a regular polygon, the apothem is the slant height of a lateral face; that is, the shortest distance from apex to base on a given face.\n",
      "Negative: Best Answer: In the United States, you can carry as much cash as you want. There are limits, though, on how you can use large quantities of cash. For instance, if you carry $20,000 in cash to a car dealer, the dealer has to report the transaction to the authorities. The reason is that drug dealers, smugglers, and other criminals tend to work entirely in cash.\n",
      "----------------------------------------\n"
     ]
    }
   ],
   "source": [
    "\n",
    "# Generate triplets\n",
    "train_triplets_stage1 = create_triplets(train_dataset, include_hard_negatives=False)\n",
    "train_triplets_stage2 = create_triplets(train_dataset, include_hard_negatives=True)\n",
    "\n",
    "test_triplets = create_triplets(test_dataset, include_hard_negatives=False)\n",
    "\n",
    "# Print samples from both train and test sets\n",
    "print(\"TRAINING TRIPLETS (stage 1):\")\n",
    "for t in train_triplets_stage1[:10]:\n",
    "    print(f\"Query: {t[0]}\\nPositive: {t[1]}\\nNegative: {t[2]}\\n{'-'*40}\")\n",
    "\n",
    "print(\"\\nTRAINING TRIPLETS (stage 2):\")\n",
    "for t in train_triplets_stage2[:10]:\n",
    "    print(f\"Query: {t[0]}\\nPositive: {t[1]}\\nNegative: {t[2]}\\n{'-'*40}\")\n",
    "\n",
    "print(\"\\nTEST TRIPLETS:\")\n",
    "for t in test_triplets[:3]:\n",
    "    print(f\"Query: {t[0]}\\nPositive: {t[1]}\\nNegative: {t[2]}\\n{'-'*40}\")"
   ]
  },
  {
   "cell_type": "code",
   "execution_count": 24,
   "metadata": {},
   "outputs": [
    {
     "name": "stdout",
     "output_type": "stream",
     "text": [
      "79704 training triplets - stage 1\n",
      "318372 training triplets - stage 2\n",
      "9345 test triplets\n"
     ]
    }
   ],
   "source": [
    "print(len(train_triplets_stage1), \"training triplets - stage 1\")\n",
    "print(len(train_triplets_stage2), \"training triplets - stage 2\")\n",
    "print(len(test_triplets), \"test triplets\")"
   ]
  },
  {
   "cell_type": "code",
   "execution_count": 27,
   "metadata": {},
   "outputs": [],
   "source": [
    "from data_prep import save_triplets_to_json\n",
    "\n",
    "# Save triplets\n",
    "save_triplets_to_json(train_triplets_stage1, \"train_triplets_stage1.json\")\n",
    "save_triplets_to_json(train_triplets_stage2, \"train_triplets_stage2.json\")\n",
    "save_triplets_to_json(test_triplets, \"test_triplets.json\")"
   ]
  },
  {
   "cell_type": "code",
   "execution_count": null,
   "metadata": {},
   "outputs": [
    {
     "name": "stdout",
     "output_type": "stream",
     "text": [
      "755369 total passages\n",
      "Passages saved to all_docs.json\n"
     ]
    }
   ],
   "source": [
    "from data_prep import save_passages_to_file\n",
    "\n",
    "# Combine both train and test passages to get all passages in one list\n",
    "train_passages = [passage for row in train_dataset for passage in row['passages']['passage_text']]\n",
    "test_passages = [passage for row in test_dataset for passage in row['passages']['passage_text']]\n",
    "all_passages = train_passages + test_passages\n",
    "print(len(all_passages), \"total passages\")\n",
    "\n",
    "# Save to a JSON file\n",
    "save_passages_to_file(all_passages, 'all_docs.json')\n"
   ]
  },
  {
   "cell_type": "code",
   "execution_count": 37,
   "metadata": {},
   "outputs": [
    {
     "name": "stdout",
     "output_type": "stream",
     "text": [
      "Passage 1: Since 2007, the RBA's outstanding reputation has been affected by the 'Securency' or NPA scandal. These RBA subsidiaries were involved in bribing overseas officials so that Australia might win lucrative note-printing contracts. The assets of the bank include the gold and foreign exchange reserves of Australia, which is estimated to have a net worth of A$101 billion. Nearly 94% of the RBA's employees work at its headquarters in Sydney, New South Wales and at the Business Resumption Site.\n",
      "----------------------------------------\n",
      "Passage 2: The Reserve Bank of Australia (RBA) came into being on 14 January 1960 as Australia 's central bank and banknote issuing authority, when the Reserve Bank Act 1959 removed the central banking functions from the Commonwealth Bank. The assets of the bank include the gold and foreign exchange reserves of Australia, which is estimated to have a net worth of A$101 billion. Nearly 94% of the RBA's employees work at its headquarters in Sydney, New South Wales and at the Business Resumption Site.\n",
      "----------------------------------------\n",
      "Passage 3: RBA Recognized with the 2014 Microsoft US Regional Partner of the ... by PR Newswire. Contract Awarded for supply and support the. Securitisations System used for risk management and analysis. \n",
      "----------------------------------------\n",
      "Passage 4: The inner workings of a rebuildable atomizer are surprisingly simple. The coil inside the RBA is made of some type of resistance wire, normally Kanthal or nichrome. When a current is applied to the coil (resistance wire), it heats up and the heated coil then vaporizes the eliquid. 1 The bottom feed RBA is, perhaps, the easiest of all RBA types to build, maintain, and use. 2  It is filled from below, much like bottom coil clearomizer. 3  Bottom feed RBAs can utilize cotton instead of silica for the wick. 4  The Genesis, or genny, is a top feed RBA that utilizes a short woven mesh wire.\n",
      "----------------------------------------\n",
      "Passage 5: Results-Based Accountability® (also known as RBA) is a disciplined way of thinking and taking action that communities can use to improve the lives of children, youth, families, adults and the community as a whole. RBA is also used by organizations to improve the performance of their programs. RBA improves the lives of children, families, and communities and the performance of programs because RBA: 1  Gets from talk to action quickly; 2  Is a simple, common sense process that everyone can understand; 3  Helps groups to surface and challenge assumptions that can be barriers to innovation;\n",
      "----------------------------------------\n",
      "Passage 6: Results-Based Accountability® (also known as RBA) is a disciplined way of thinking and taking action that communities can use to improve the lives of children, youth, families, adults and the community as a whole. RBA is also used by organizations to improve the performance of their programs. Creating Community Impact with RBA. Community impact focuses on conditions of well-being for children, families and the community as a whole that a group of leaders is working collectively to improve. For example: “Residents with good jobs,” “Children ready for school,” or “A safe and clean neighborhood”.\n",
      "----------------------------------------\n",
      "Passage 7: RBA uses a data-driven, decision-making process to help communities and organizations get beyond talking about problems to taking action to solve problems. It is a simple, common sense framework that everyone can understand. RBA starts with ends and works backward, towards means. The “end” or difference you are trying to make looks slightly different if you are working on a broad community level or are focusing on your specific program or organization. RBA improves the lives of children, families, and communities and the performance of programs because RBA: 1  Gets from talk to action quickly; 2  Is a simple, common sense process that everyone can understand; 3  Helps groups to surface and challenge assumptions that can be barriers to innovation;\n",
      "----------------------------------------\n",
      "Passage 8: vs. NetIQ Identity Manager. Risk-based authentication (RBA) is a method of applying varying levels of stringency to authentication processes based on the likelihood that access to a given system could result in its being compromised. Risk-based authentication can be categorized as either user-dependent or transaction-dependent. User-dependent RBA processes employ the same authentication for every session initiated by a given user; the exact credentials that the site demands depend on who the user is.\n",
      "----------------------------------------\n",
      "Passage 9: A rebuildable atomizer (RBA), often referred to as simply a “rebuildable,” is just a special type of atomizer used in the Vape Pen and Mod Industry that connects to a personal vaporizer. 1 The bottom feed RBA is, perhaps, the easiest of all RBA types to build, maintain, and use. 2  It is filled from below, much like bottom coil clearomizer. 3  Bottom feed RBAs can utilize cotton instead of silica for the wick. 4  The Genesis, or genny, is a top feed RBA that utilizes a short woven mesh wire.\n",
      "----------------------------------------\n",
      "Passage 10: Get To Know Us. RBA is a digital and technology consultancy with roots in strategy, design and technology. Our team of specialists help progressive companies deliver modern digital experiences backed by proven technology engineering. \n",
      "----------------------------------------\n",
      "Passage 11: In his younger years, Ronald Reagan was a member of the Democratic Party and campaigned for Democratic candidates; however, his views grew more conservative over time, and in the early 1960s he officially became a Republican. In November 1984, Ronald Reagan was reelected in a landslide, defeating Walter Mondale and his running mate Geraldine Ferraro (1935-), the first female vice-presidential candidate from a major U.S. political party.\n",
      "----------------------------------------\n",
      "Passage 12: From Wikipedia, the free encyclopedia. A Reagan Democrat is a traditionally Democratic voter in the United States, especially a white working-class Northerner, who defected from their party to support Republican President Ronald Reagan in either or both the 1980 and 1984 elections. During the 1980 election a dramatic number of voters in the U.S., disillusioned with the economic 'malaise' of the 1970s and the presidency of Jimmy Carter (even more than, four years earlier, Liberal Republican Gerald Ford), supported former California governor (and former Democrat) Ronald Reagan.\n",
      "----------------------------------------\n",
      "Passage 13: Ronald Reagan began his political life in the Democratic Party, but as he became more and more conservative, he ultimately changed to the Republican Party in the early 1960s. Yes, he switched parties in 1962. He said that he did not desert the Democrats but rather they deserted him. Yes, Ronald Reagan was a member of the Democratic Party until he s … witched to the Republican Party in 1962, at the age of 51. 8 people found this useful.\n",
      "----------------------------------------\n",
      "Passage 14: Ronald Wilson Reagan (/ˈrɒnəld ˈwɪlsən ˈreɪɡən/ ; February 6, 1911 – June 5, 2004) was an American politician, commentator, and actor, who served as the 40th President of the United States from 1981 to 1989. I think Ronald Reagan changed the trajectory of America in a way that Richard Nixon did not and in a way that Bill Clinton did not. He put us on a fundamentally different path because the country was ready for it.\n",
      "----------------------------------------\n",
      "Passage 15: When Reagan was a 'liberal Democrat'. In 1948, a very different sounding Ronald Reagan campaigned on the radio for Democrat Harry Truman. Listen to the old audio recording. ... more Duration: {{video.duration.momentjs}}. \n",
      "----------------------------------------\n"
     ]
    }
   ],
   "source": [
    "for i, passage in enumerate(all_passages[:15]):\n",
    "    print(f\"Passage {i+1}: {passage}\\n{'-'*40}\")"
   ]
  },
  {
   "cell_type": "code",
   "execution_count": null,
   "metadata": {},
   "outputs": [
    {
     "name": "stdout",
     "output_type": "stream",
     "text": [
      "Loaded 755369 passages from all_docs.json\n",
      "[\"Since 2007, the RBA's outstanding reputation has been affected by the 'Securency' or NPA scandal. These RBA subsidiaries were involved in bribing overseas officials so that Australia might win lucrative note-printing contracts. The assets of the bank include the gold and foreign exchange reserves of Australia, which is estimated to have a net worth of A$101 billion. Nearly 94% of the RBA's employees work at its headquarters in Sydney, New South Wales and at the Business Resumption Site.\", \"The Reserve Bank of Australia (RBA) came into being on 14 January 1960 as Australia 's central bank and banknote issuing authority, when the Reserve Bank Act 1959 removed the central banking functions from the Commonwealth Bank. The assets of the bank include the gold and foreign exchange reserves of Australia, which is estimated to have a net worth of A$101 billion. Nearly 94% of the RBA's employees work at its headquarters in Sydney, New South Wales and at the Business Resumption Site.\", 'RBA Recognized with the 2014 Microsoft US Regional Partner of the ... by PR Newswire. Contract Awarded for supply and support the. Securitisations System used for risk management and analysis. ', 'The inner workings of a rebuildable atomizer are surprisingly simple. The coil inside the RBA is made of some type of resistance wire, normally Kanthal or nichrome. When a current is applied to the coil (resistance wire), it heats up and the heated coil then vaporizes the eliquid. 1 The bottom feed RBA is, perhaps, the easiest of all RBA types to build, maintain, and use. 2  It is filled from below, much like bottom coil clearomizer. 3  Bottom feed RBAs can utilize cotton instead of silica for the wick. 4  The Genesis, or genny, is a top feed RBA that utilizes a short woven mesh wire.', 'Results-Based Accountability® (also known as RBA) is a disciplined way of thinking and taking action that communities can use to improve the lives of children, youth, families, adults and the community as a whole. RBA is also used by organizations to improve the performance of their programs. RBA improves the lives of children, families, and communities and the performance of programs because RBA: 1  Gets from talk to action quickly; 2  Is a simple, common sense process that everyone can understand; 3  Helps groups to surface and challenge assumptions that can be barriers to innovation;', 'Results-Based Accountability® (also known as RBA) is a disciplined way of thinking and taking action that communities can use to improve the lives of children, youth, families, adults and the community as a whole. RBA is also used by organizations to improve the performance of their programs. Creating Community Impact with RBA. Community impact focuses on conditions of well-being for children, families and the community as a whole that a group of leaders is working collectively to improve. For example: “Residents with good jobs,” “Children ready for school,” or “A safe and clean neighborhood”.', 'RBA uses a data-driven, decision-making process to help communities and organizations get beyond talking about problems to taking action to solve problems. It is a simple, common sense framework that everyone can understand. RBA starts with ends and works backward, towards means. The “end” or difference you are trying to make looks slightly different if you are working on a broad community level or are focusing on your specific program or organization. RBA improves the lives of children, families, and communities and the performance of programs because RBA: 1  Gets from talk to action quickly; 2  Is a simple, common sense process that everyone can understand; 3  Helps groups to surface and challenge assumptions that can be barriers to innovation;', 'vs. NetIQ Identity Manager. Risk-based authentication (RBA) is a method of applying varying levels of stringency to authentication processes based on the likelihood that access to a given system could result in its being compromised. Risk-based authentication can be categorized as either user-dependent or transaction-dependent. User-dependent RBA processes employ the same authentication for every session initiated by a given user; the exact credentials that the site demands depend on who the user is.', 'A rebuildable atomizer (RBA), often referred to as simply a “rebuildable,” is just a special type of atomizer used in the Vape Pen and Mod Industry that connects to a personal vaporizer. 1 The bottom feed RBA is, perhaps, the easiest of all RBA types to build, maintain, and use. 2  It is filled from below, much like bottom coil clearomizer. 3  Bottom feed RBAs can utilize cotton instead of silica for the wick. 4  The Genesis, or genny, is a top feed RBA that utilizes a short woven mesh wire.', 'Get To Know Us. RBA is a digital and technology consultancy with roots in strategy, design and technology. Our team of specialists help progressive companies deliver modern digital experiences backed by proven technology engineering. ']\n"
     ]
    }
   ],
   "source": []
  }
 ],
 "metadata": {
  "kernelspec": {
   "display_name": "venv",
   "language": "python",
   "name": "python3"
  },
  "language_info": {
   "codemirror_mode": {
    "name": "ipython",
    "version": 3
   },
   "file_extension": ".py",
   "mimetype": "text/x-python",
   "name": "python",
   "nbconvert_exporter": "python",
   "pygments_lexer": "ipython3",
   "version": "3.10.12"
  }
 },
 "nbformat": 4,
 "nbformat_minor": 2
}
