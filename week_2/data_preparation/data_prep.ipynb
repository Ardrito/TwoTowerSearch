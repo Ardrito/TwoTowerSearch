{
 "cells": [
  {
   "cell_type": "code",
   "execution_count": 1,
   "metadata": {},
   "outputs": [],
   "source": [
    "import pandas as pd\n",
    "import numpy as np\n",
    "\n",
    "from datasets import load_dataset\n"
   ]
  },
  {
   "cell_type": "code",
   "execution_count": 24,
   "metadata": {},
   "outputs": [],
   "source": [
    "train_dataset = load_dataset('ms_marco', 'v1.1', split='train')\n",
    "test_dataset = load_dataset('ms_marco', 'v1.1', split='test')"
   ]
  },
  {
   "cell_type": "code",
   "execution_count": null,
   "metadata": {},
   "outputs": [
    {
     "data": {
      "text/plain": [
       "{'is_selected': [0, 0, 0, 0, 0, 1, 0, 0, 0, 0],\n",
       " 'passage_text': [\"Since 2007, the RBA's outstanding reputation has been affected by the 'Securency' or NPA scandal. These RBA subsidiaries were involved in bribing overseas officials so that Australia might win lucrative note-printing contracts. The assets of the bank include the gold and foreign exchange reserves of Australia, which is estimated to have a net worth of A$101 billion. Nearly 94% of the RBA's employees work at its headquarters in Sydney, New South Wales and at the Business Resumption Site.\",\n",
       "  \"The Reserve Bank of Australia (RBA) came into being on 14 January 1960 as Australia 's central bank and banknote issuing authority, when the Reserve Bank Act 1959 removed the central banking functions from the Commonwealth Bank. The assets of the bank include the gold and foreign exchange reserves of Australia, which is estimated to have a net worth of A$101 billion. Nearly 94% of the RBA's employees work at its headquarters in Sydney, New South Wales and at the Business Resumption Site.\",\n",
       "  'RBA Recognized with the 2014 Microsoft US Regional Partner of the ... by PR Newswire. Contract Awarded for supply and support the. Securitisations System used for risk management and analysis. ',\n",
       "  'The inner workings of a rebuildable atomizer are surprisingly simple. The coil inside the RBA is made of some type of resistance wire, normally Kanthal or nichrome. When a current is applied to the coil (resistance wire), it heats up and the heated coil then vaporizes the eliquid. 1 The bottom feed RBA is, perhaps, the easiest of all RBA types to build, maintain, and use. 2  It is filled from below, much like bottom coil clearomizer. 3  Bottom feed RBAs can utilize cotton instead of silica for the wick. 4  The Genesis, or genny, is a top feed RBA that utilizes a short woven mesh wire.',\n",
       "  'Results-Based Accountability® (also known as RBA) is a disciplined way of thinking and taking action that communities can use to improve the lives of children, youth, families, adults and the community as a whole. RBA is also used by organizations to improve the performance of their programs. RBA improves the lives of children, families, and communities and the performance of programs because RBA: 1  Gets from talk to action quickly; 2  Is a simple, common sense process that everyone can understand; 3  Helps groups to surface and challenge assumptions that can be barriers to innovation;',\n",
       "  'Results-Based Accountability® (also known as RBA) is a disciplined way of thinking and taking action that communities can use to improve the lives of children, youth, families, adults and the community as a whole. RBA is also used by organizations to improve the performance of their programs. Creating Community Impact with RBA. Community impact focuses on conditions of well-being for children, families and the community as a whole that a group of leaders is working collectively to improve. For example: “Residents with good jobs,” “Children ready for school,” or “A safe and clean neighborhood”.',\n",
       "  'RBA uses a data-driven, decision-making process to help communities and organizations get beyond talking about problems to taking action to solve problems. It is a simple, common sense framework that everyone can understand. RBA starts with ends and works backward, towards means. The “end” or difference you are trying to make looks slightly different if you are working on a broad community level or are focusing on your specific program or organization. RBA improves the lives of children, families, and communities and the performance of programs because RBA: 1  Gets from talk to action quickly; 2  Is a simple, common sense process that everyone can understand; 3  Helps groups to surface and challenge assumptions that can be barriers to innovation;',\n",
       "  'vs. NetIQ Identity Manager. Risk-based authentication (RBA) is a method of applying varying levels of stringency to authentication processes based on the likelihood that access to a given system could result in its being compromised. Risk-based authentication can be categorized as either user-dependent or transaction-dependent. User-dependent RBA processes employ the same authentication for every session initiated by a given user; the exact credentials that the site demands depend on who the user is.',\n",
       "  'A rebuildable atomizer (RBA), often referred to as simply a “rebuildable,” is just a special type of atomizer used in the Vape Pen and Mod Industry that connects to a personal vaporizer. 1 The bottom feed RBA is, perhaps, the easiest of all RBA types to build, maintain, and use. 2  It is filled from below, much like bottom coil clearomizer. 3  Bottom feed RBAs can utilize cotton instead of silica for the wick. 4  The Genesis, or genny, is a top feed RBA that utilizes a short woven mesh wire.',\n",
       "  'Get To Know Us. RBA is a digital and technology consultancy with roots in strategy, design and technology. Our team of specialists help progressive companies deliver modern digital experiences backed by proven technology engineering. '],\n",
       " 'url': ['https://en.wikipedia.org/wiki/Reserve_Bank_of_Australia',\n",
       "  'https://en.wikipedia.org/wiki/Reserve_Bank_of_Australia',\n",
       "  'http://acronyms.thefreedictionary.com/RBA',\n",
       "  'https://www.slimvapepen.com/rebuildable-atomizer-rba/',\n",
       "  'http://rba-africa.com/about/what-is-rba/',\n",
       "  'http://resultsleadership.org/what-is-results-based-accountability-rba/',\n",
       "  'http://rba-africa.com/about/what-is-rba/',\n",
       "  'http://searchsecurity.techtarget.com/definition/risk-based-authentication-RBA',\n",
       "  'https://www.slimvapepen.com/rebuildable-atomizer-rba/',\n",
       "  'http://www.rbaconsulting.com/']}"
      ]
     },
     "execution_count": 15,
     "metadata": {},
     "output_type": "execute_result"
    }
   ],
   "source": [
    "# view structure of the passages column in the dataset\n",
    "texts = train_dataset['passages'][0]\n",
    "texts\n"
   ]
  },
  {
   "cell_type": "code",
   "execution_count": 18,
   "metadata": {},
   "outputs": [],
   "source": [
    "import random\n",
    "\n",
    "def create_training_triplets(dataset):\n",
    "    \"\"\"\n",
    "    Create (query, positive_passage, negative_passage) triplets from the given dataset.\n",
    "    \n",
    "    Args:\n",
    "        dataset (list of dict): Each item should have 'Query' and 'Passages' keys. \n",
    "                                'Passages' must contain 'is_selected' and 'passage_text'.\n",
    "    \n",
    "    Returns:\n",
    "        list of tuples: Each tuple is (query, positive_passage, negative_passage)\n",
    "    \"\"\"\n",
    "    all_passages = []\n",
    "\n",
    "    # Pre-collect all passages for negative sampling\n",
    "    for row in dataset:\n",
    "        all_passages.extend(row['passages']['passage_text'])\n",
    "\n",
    "\n",
    "    triplets = []\n",
    "\n",
    "    for row in dataset:\n",
    "        query = row['query']\n",
    "        passages = row['passages']['passage_text']\n",
    "        labels = row['passages']['is_selected']\n",
    "\n",
    "        # Find the index of the positive passage\n",
    "        if 1 not in labels:\n",
    "            continue  # Skip if no positive passage\n",
    "        pos_index = labels.index(1)\n",
    "        positive = passages[pos_index]\n",
    "\n",
    "        # Select a random negative passage (ensuring it's not from the same row)\n",
    "        while True:\n",
    "            negative = random.choice(all_passages)\n",
    "            if negative != positive and negative not in passages:\n",
    "                break\n",
    "\n",
    "        triplets.append((query, positive, negative))\n",
    "\n",
    "    return triplets\n"
   ]
  },
  {
   "cell_type": "code",
   "execution_count": 22,
   "metadata": {},
   "outputs": [
    {
     "name": "stdout",
     "output_type": "stream",
     "text": [
      "[\"Since 2007, the RBA's outstanding reputation has been affected by the 'Securency' or NPA scandal. These RBA subsidiaries were involved in bribing overseas officials so that Australia might win lucrative note-printing contracts. The assets of the bank include the gold and foreign exchange reserves of Australia, which is estimated to have a net worth of A$101 billion. Nearly 94% of the RBA's employees work at its headquarters in Sydney, New South Wales and at the Business Resumption Site.\", \"The Reserve Bank of Australia (RBA) came into being on 14 January 1960 as Australia 's central bank and banknote issuing authority, when the Reserve Bank Act 1959 removed the central banking functions from the Commonwealth Bank. The assets of the bank include the gold and foreign exchange reserves of Australia, which is estimated to have a net worth of A$101 billion. Nearly 94% of the RBA's employees work at its headquarters in Sydney, New South Wales and at the Business Resumption Site.\", 'RBA Recognized with the 2014 Microsoft US Regional Partner of the ... by PR Newswire. Contract Awarded for supply and support the. Securitisations System used for risk management and analysis. ', 'The inner workings of a rebuildable atomizer are surprisingly simple. The coil inside the RBA is made of some type of resistance wire, normally Kanthal or nichrome. When a current is applied to the coil (resistance wire), it heats up and the heated coil then vaporizes the eliquid. 1 The bottom feed RBA is, perhaps, the easiest of all RBA types to build, maintain, and use. 2  It is filled from below, much like bottom coil clearomizer. 3  Bottom feed RBAs can utilize cotton instead of silica for the wick. 4  The Genesis, or genny, is a top feed RBA that utilizes a short woven mesh wire.', 'Results-Based Accountability® (also known as RBA) is a disciplined way of thinking and taking action that communities can use to improve the lives of children, youth, families, adults and the community as a whole. RBA is also used by organizations to improve the performance of their programs. RBA improves the lives of children, families, and communities and the performance of programs because RBA: 1  Gets from talk to action quickly; 2  Is a simple, common sense process that everyone can understand; 3  Helps groups to surface and challenge assumptions that can be barriers to innovation;']\n",
      "Query: what is rba\n",
      "Positive: Results-Based Accountability® (also known as RBA) is a disciplined way of thinking and taking action that communities can use to improve the lives of children, youth, families, adults and the community as a whole. RBA is also used by organizations to improve the performance of their programs. Creating Community Impact with RBA. Community impact focuses on conditions of well-being for children, families and the community as a whole that a group of leaders is working collectively to improve. For example: “Residents with good jobs,” “Children ready for school,” or “A safe and clean neighborhood”.\n",
      "Negative: The Titanic iceberg was one of the lucky ones, so to speak, as the vast, vast majority of icebergs melt long before they reach that far south. Of the 15,000 to 30,000 icebergs calved each years by the Greenland glaciers, probably only about 1 percent of them ever make it all the way to the Atlantic.\n",
      "----------------------------------------\n",
      "Query: was ronald reagan a democrat\n",
      "Positive: From Wikipedia, the free encyclopedia. A Reagan Democrat is a traditionally Democratic voter in the United States, especially a white working-class Northerner, who defected from their party to support Republican President Ronald Reagan in either or both the 1980 and 1984 elections. During the 1980 election a dramatic number of voters in the U.S., disillusioned with the economic 'malaise' of the 1970s and the presidency of Jimmy Carter (even more than, four years earlier, Liberal Republican Gerald Ford), supported former California governor (and former Democrat) Ronald Reagan.\n",
      "Negative: Greases are classified in one of nine grades based on their consistency. NLGI Grade alone is not sufficient for specifying the grease for a particular application but it is a useful qualitative measure. \n",
      "----------------------------------------\n",
      "Query: how long do you need for sydney and surrounding areas\n",
      "Positive: Sydney is the capital city of the Australian state of New South Wales, and Australia's largest city. A week in Sydney will help you see many of the sights of Sydney and its surrounds, and understand the city and its culture. If you're up for exploring the area by bike (one of the best ways to do so as much of it is parkland), take the train to Concord West station on the Northern Line (red line on the Sydney Trains map-about 20-25 minutes from the city on a direct train).\n",
      "Negative: The average newborn sleeps much of the day and night, waking only for feedings every few hours. It is often hard for new parents to know how long and how often a newborn should sleep. Unfortunately, there is no set schedule at first and many newborns have their days and nights confused.\n",
      "----------------------------------------\n"
     ]
    }
   ],
   "source": [
    "\n",
    "# Generate triplets\n",
    "train_triplets = create_training_triplets(train_dataset)\n",
    "\n",
    "# Print a sample\n",
    "for t in train_triplets[:3]:\n",
    "    print(f\"Query: {t[0]}\\nPositive: {t[1]}\\nNegative: {t[2]}\\n{'-'*40}\")\n"
   ]
  },
  {
   "cell_type": "code",
   "execution_count": 23,
   "metadata": {},
   "outputs": [],
   "source": [
    "import json\n",
    "from typing import List, Tuple\n",
    "\n",
    "def save_triplets_to_json(triplets: List[Tuple[str, str, str]], output_file: str) -> None:\n",
    "    \"\"\"\n",
    "    Save triplets to a JSON file.\n",
    "    \n",
    "    Args:\n",
    "        triplets: List of (query, positive_passage, negative_passage) tuples\n",
    "        output_file: Path to save the JSON file\n",
    "    \"\"\"\n",
    "    # Convert tuples to dictionaries for better readability\n",
    "    triplets_dict = [\n",
    "        {\n",
    "            \"query\": query,\n",
    "            \"positive_passage\": pos,\n",
    "            \"negative_passage\": neg\n",
    "        }\n",
    "        for query, pos, neg in triplets\n",
    "    ]\n",
    "    \n",
    "    with open(output_file, 'w', encoding='utf-8') as f:\n",
    "        json.dump(triplets_dict, f, ensure_ascii=False, indent=2)\n",
    "\n",
    "def load_triplets_from_json(input_file: str) -> List[Tuple[str, str, str]]:\n",
    "    \"\"\"\n",
    "    Load triplets from a JSON file.\n",
    "    \n",
    "    Args:\n",
    "        input_file: Path to the JSON file\n",
    "        \n",
    "    Returns:\n",
    "        List of (query, positive_passage, negative_passage) tuples\n",
    "    \"\"\"\n",
    "    with open(input_file, 'r', encoding='utf-8') as f:\n",
    "        triplets_dict = json.load(f)\n",
    "    \n",
    "    # Convert dictionaries back to tuples\n",
    "    triplets = [\n",
    "        (item[\"query\"], item[\"positive_passage\"], item[\"negative_passage\"])\n",
    "        for item in triplets_dict\n",
    "    ]\n",
    "    \n",
    "    return triplets\n",
    "\n",
    "\n",
    "# Save triplets\n",
    "save_triplets_to_json(train_triplets, \"triplets.json\")"
   ]
  },
  {
   "cell_type": "markdown",
   "metadata": {},
   "source": [
    "## Tokenizing and Embedding"
   ]
  },
  {
   "cell_type": "code",
   "execution_count": 25,
   "metadata": {},
   "outputs": [
    {
     "name": "stdout",
     "output_type": "stream",
     "text": [
      "torch.Size([79704, 384])\n",
      "torch.Size([79704, 384])\n",
      "torch.Size([79704, 384])\n"
     ]
    }
   ],
   "source": [
    "from sentence_transformers import SentenceTransformer\n",
    "import torch\n",
    "\n",
    "# Load the pre-trained Sentence-BERT model\n",
    "model = SentenceTransformer('all-MiniLM-L6-v2')\n",
    "\n",
    "def embed_triplets(triplets):\n",
    "    \"\"\"\n",
    "    Given a list of triplets (query, positive_passage, negative_passage),\n",
    "    this function will return a tensor of embeddings for the queries, positive passages, and negative passages.\n",
    "    \n",
    "    Args:\n",
    "    triplets (list of tuples): Each tuple is (query, positive_passage, negative_passage)\n",
    "    \n",
    "    Returns:\n",
    "    tuple: Three tensors, (query_embeddings, positive_embeddings, negative_embeddings)\n",
    "    \"\"\"\n",
    "    \n",
    "    # Extract the queries, positive passages, and negative passages\n",
    "    queries, positive_passages, negative_passages = zip(*triplets)\n",
    "    \n",
    "    # Encode the queries, positive passages, and negative passages\n",
    "    query_embeddings = model.encode(queries, convert_to_tensor=True)\n",
    "    positive_embeddings = model.encode(positive_passages, convert_to_tensor=True)\n",
    "    negative_embeddings = model.encode(negative_passages, convert_to_tensor=True)\n",
    "    \n",
    "    return query_embeddings, positive_embeddings, negative_embeddings\n",
    "\n",
    "\n",
    "\n",
    "query_embeddings, positive_embeddings, negative_embeddings = embed_triplets(train_triplets)\n",
    "\n",
    "# The embeddings will be in tensor form, and you can now use them for downstream tasks like calculating triplet loss.\n",
    "print(query_embeddings.shape)  # Should return a tensor with the shape (n_triplets, embedding_dim)\n",
    "print(positive_embeddings.shape)\n",
    "print(negative_embeddings.shape)\n",
    "\n",
    "\n"
   ]
  }
 ],
 "metadata": {
  "kernelspec": {
   "display_name": "venv",
   "language": "python",
   "name": "python3"
  },
  "language_info": {
   "codemirror_mode": {
    "name": "ipython",
    "version": 3
   },
   "file_extension": ".py",
   "mimetype": "text/x-python",
   "name": "python",
   "nbconvert_exporter": "python",
   "pygments_lexer": "ipython3",
   "version": "3.11.9"
  }
 },
 "nbformat": 4,
 "nbformat_minor": 2
}
