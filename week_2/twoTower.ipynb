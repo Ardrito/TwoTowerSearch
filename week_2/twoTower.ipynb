{
 "cells": [
  {
   "cell_type": "code",
   "execution_count": 1,
   "id": "d8892436",
   "metadata": {},
   "outputs": [
    {
     "name": "stderr",
     "output_type": "stream",
     "text": [
      "/root/TwoTowerSearch/week_2/.venv/lib/python3.12/site-packages/tqdm/auto.py:21: TqdmWarning: IProgress not found. Please update jupyter and ipywidgets. See https://ipywidgets.readthedocs.io/en/stable/user_install.html\n",
      "  from .autonotebook import tqdm as notebook_tqdm\n"
     ]
    }
   ],
   "source": [
    "from datasets import load_dataset\n",
    "import random\n",
    "import re\n",
    "from tqdm import tqdm\n",
    "import pickle\n",
    "import pandas as pd\n",
    "import torch\n",
    "import numpy as np\n",
    "from torch.utils.data import Dataset, DataLoader\n",
    "import torch.nn as nn\n",
    "import torch.nn.functional as F\n",
    "import os\n",
    "import torch.optim as optim\n",
    "from CBOW import CBOW\n",
    "random.seed(42)\n",
    "torch.manual_seed(42)\n",
    "np.random.seed(42)\n"
   ]
  },
  {
   "cell_type": "code",
   "execution_count": 2,
   "id": "573a909f",
   "metadata": {},
   "outputs": [],
   "source": [
    "#marco_test = np.load(\"marco_test.npy\",allow_pickle=True)\n",
    "marco_val = np.load(\"marco_val.npy\",allow_pickle=True)\n",
    "marco_train = np.load(\"marco_train.npy\",allow_pickle=True)"
   ]
  },
  {
   "cell_type": "code",
   "execution_count": 3,
   "id": "66cdc3f3",
   "metadata": {},
   "outputs": [],
   "source": [
    "#val_tensor = torch.tensor((marco_val),dtype=int)"
   ]
  },
  {
   "cell_type": "code",
   "execution_count": 11,
   "id": "0eced135",
   "metadata": {},
   "outputs": [
    {
     "data": {
      "text/plain": [
       "CBOW(\n",
       "  (embed): Embedding(76289, 128)\n",
       "  (lin): Linear(in_features=128, out_features=76289, bias=True)\n",
       ")"
      ]
     },
     "execution_count": 11,
     "metadata": {},
     "output_type": "execute_result"
    }
   ],
   "source": [
    "device = device = torch.device(\"cuda\" if torch.cuda.is_available() else \"cpu\")\n",
    "embedder = CBOW()#.to(device)\n",
    "embedder.load_state_dict(torch.load(\"checkpoints/best.pt\", weights_only=True))\n",
    "embedder.eval()"
   ]
  },
  {
   "cell_type": "code",
   "execution_count": null,
   "id": "dd4b2110",
   "metadata": {},
   "outputs": [],
   "source": [
    "class twoTowerDataSet(Dataset):\n",
    "    def __init__(self,marco_splt):\n",
    "        self.data = marco_splt\n",
    "        self.len = self.data.shape[0]\n",
    "        self.device = device\n",
    "        self.embedder = embedder.to(device)\n",
    "    \n",
    "    def __len__(self):\n",
    "        return self.len\n",
    "    \n",
    "    def __getitem__(self, idx):\n",
    "        randIdx = random.randint(0, self.len - 1)\n",
    "        row = self.data[idx]\n",
    "        query_ids = torch.tensor(row[1], dtype=torch.long, device=self.device)\n",
    "        pos_idx = row[2].index(1)\n",
    "        pos_ids = torch.tensor(row[pos_idx + 2], dtype=torch.long, device=self.device)\n",
    "        neg_ids = torch.tensor(self.data[randIdx][3], dtype=torch.long, device=self.device)\n",
    "\n",
    "        with torch.no_grad():  # No grad for embedder\n",
    "            query = self.embedder.embed(query_ids).mean(dim=0)\n",
    "            pos = self.embedder.embed(pos_ids).mean(dim=0)\n",
    "            neg = self.embedder.embed(neg_ids).mean(dim=0)\n",
    "\n",
    "        # print (\"Query\", query.shape)\n",
    "        # print (\"pos\", pos.shape)\n",
    "        # print (\"neg\", neg.shape)\n",
    "\n",
    "\n",
    "        return query, pos, neg"
   ]
  },
  {
   "cell_type": "code",
   "execution_count": 5,
   "id": "73bd96e2",
   "metadata": {},
   "outputs": [],
   "source": [
    "class twoTowerModel(nn.Module):\n",
    "    def __init__(self, embedding_dim=128):\n",
    "        super().__init__()\n",
    "        self.seq = nn.Sequential(\n",
    "            nn.Linear(embedding_dim, 128),\n",
    "            nn.ReLU(),\n",
    "            nn.Linear(128, 64),\n",
    "            nn.ReLU(),\n",
    "            nn.Linear(64,32)\n",
    "            )\n",
    "\n",
    "    def forward(self,X):\n",
    "        out = self.seq(X)\n",
    "\n",
    "        return(out)\n",
    "    \n",
    "def contrastiveLoss(query, pos, neg, m=0.6):\n",
    "    # query = query[0]\n",
    "    # pos = pos[0]\n",
    "    # neg = neg[0]\n",
    "    sim_pos = F.cosine_similarity(query, pos)\n",
    "    sim_neg = F.cosine_similarity(query, neg)\n",
    "    # print (\"pos\",torch.dot(query,pos))\n",
    "    # print (torch.linalg.norm(query),torch.linalg.norm(pos))\n",
    "    # print (\"neg\", cosine_sim_neg)\n",
    "    return torch.clamp(m - sim_pos + sim_neg, min=0.0).mean()"
   ]
  },
  {
   "cell_type": "code",
   "execution_count": 6,
   "id": "0f67fa0d",
   "metadata": {},
   "outputs": [],
   "source": [
    "epoch_val_loss_history = []\n",
    "epoch_train_loss_history = []"
   ]
  },
  {
   "cell_type": "code",
   "execution_count": null,
   "id": "40f72c69",
   "metadata": {},
   "outputs": [],
   "source": [
    "def train(batchSize=1024, numEpochs= 20, lr=1e-3 ):\n",
    "    device = torch.device(\"cuda\" if torch.cuda.is_available() else \"cpu\")\n",
    "\n",
    "    embedder = CBOW()\n",
    "    embedder.load_state_dict(torch.load(\"checkpoints/best.pt\", weights_only=True))\n",
    "    embedder.eval().to(device)\n",
    "\n",
    "    train_dataset = twoTowerDataSet(marco_train, embedder, device)\n",
    "    val_dataset = twoTowerDataSet(marco_val, embedder, device)\n",
    "\n",
    "    train_loader = DataLoader(train_dataset,batch_size=batchSize, shuffle=True, num_workers=4, pin_memory=True)\n",
    "    val_loader = DataLoader(val_dataset, batch_size=batchSize, shuffle=False)\n",
    "\n",
    "    passage_model = twoTowerModel().to(device)\n",
    "    query_model = twoTowerModel().to(device)\n",
    "\n",
    "    optimizer = optim.Adam(list(passage_model.parameters()) + list(query_model.parameters()),lr=lr)\n",
    "\n",
    "    best_loss = float(\"inf\")\n",
    "\n",
    "    epoch_counter = 0\n",
    "\n",
    "    for epoch in range(numEpochs):\n",
    "        #epoch_counter += 1\n",
    "        epoch_train_loss = 0.0\n",
    "\n",
    "        passage_model.train()\n",
    "        query_model.train()\n",
    "        \n",
    "        for query, pos, neg in tqdm(train_loader):\n",
    "            query = query.to(device)\n",
    "            pos = pos.to(device)\n",
    "            neg = neg.to(device)\n",
    "\n",
    "            optimizer.zero_grad()\n",
    "\n",
    "            embedded_query = query_model(query)\n",
    "            embedded_pos = passage_model(pos)\n",
    "            embedded_neg = passage_model(neg)\n",
    "\n",
    "            loss = contrastiveLoss(embedded_query, embedded_pos, embedded_neg)\n",
    "            loss.backward()\n",
    "            optimizer.step()\n",
    "\n",
    "            epoch_train_loss += loss.item()\n",
    "\n",
    "        epoch_val_loss = 0.0\n",
    "\n",
    "        passage_model.eval()\n",
    "        query_model.eval()\n",
    "\n",
    "        with torch.no_grad():\n",
    "            for query, pos, neg in tqdm(val_loader):\n",
    "                query = query.to(device)\n",
    "                pos = pos.to(device)\n",
    "                neg = neg.to(device)\n",
    "\n",
    "                embedded_query = query_model(query)\n",
    "                embedded_pos = passage_model(pos)\n",
    "                embedded_neg = passage_model(neg)\n",
    "\n",
    "                loss = contrastiveLoss(embedded_query, embedded_pos, embedded_neg)\n",
    "\n",
    "                epoch_val_loss += loss.item()\n",
    "        avg_train_loss = epoch_train_loss/len(train_loader)\n",
    "        avg_val_loss = epoch_val_loss/len(val_loader)\n",
    "\n",
    "        print(f\"\\nEpoch {epoch+1}/{numEpochs} — \" f\"Train Loss: {avg_train_loss} | Val Loss: {avg_val_loss}\")\n",
    "        \n",
    "        if avg_val_loss < best_loss:\n",
    "            best_loss = avg_val_loss\n",
    "            torch.save(query_model.state_dict(), f'checkpoints/bestQuery.pt')\n",
    "            torch.save(passage_model.state_dict(), f'checkpoints/bestPassage.pt')\n",
    "            print(f\"Model improved. Saved.\")\n",
    "\n",
    "\n",
    "\n",
    "\n",
    "    \n",
    "\n",
    "\n"
   ]
  },
  {
   "cell_type": "code",
   "execution_count": 12,
   "id": "bd419bb5",
   "metadata": {},
   "outputs": [
    {
     "name": "stdout",
     "output_type": "stream",
     "text": [
      "cuda\n"
     ]
    },
    {
     "name": "stderr",
     "output_type": "stream",
     "text": [
      "  0%|          | 0/81 [00:00<?, ?it/s]\n"
     ]
    },
    {
     "ename": "RuntimeError",
     "evalue": "Caught RuntimeError in DataLoader worker process 0.\nOriginal Traceback (most recent call last):\n  File \"/root/TwoTowerSearch/week_2/.venv/lib/python3.12/site-packages/torch/utils/data/_utils/worker.py\", line 349, in _worker_loop\n    data = fetcher.fetch(index)  # type: ignore[possibly-undefined]\n           ^^^^^^^^^^^^^^^^^^^^\n  File \"/root/TwoTowerSearch/week_2/.venv/lib/python3.12/site-packages/torch/utils/data/_utils/fetch.py\", line 55, in fetch\n    return self.collate_fn(data)\n           ^^^^^^^^^^^^^^^^^^^^^\n  File \"/root/TwoTowerSearch/week_2/.venv/lib/python3.12/site-packages/torch/utils/data/_utils/collate.py\", line 398, in default_collate\n    return collate(batch, collate_fn_map=default_collate_fn_map)\n           ^^^^^^^^^^^^^^^^^^^^^^^^^^^^^^^^^^^^^^^^^^^^^^^^^^^^^\n  File \"/root/TwoTowerSearch/week_2/.venv/lib/python3.12/site-packages/torch/utils/data/_utils/collate.py\", line 212, in collate\n    collate(samples, collate_fn_map=collate_fn_map)\n  File \"/root/TwoTowerSearch/week_2/.venv/lib/python3.12/site-packages/torch/utils/data/_utils/collate.py\", line 155, in collate\n    return collate_fn_map[elem_type](batch, collate_fn_map=collate_fn_map)\n           ^^^^^^^^^^^^^^^^^^^^^^^^^^^^^^^^^^^^^^^^^^^^^^^^^^^^^^^^^^^^^^^\n  File \"/root/TwoTowerSearch/week_2/.venv/lib/python3.12/site-packages/torch/utils/data/_utils/collate.py\", line 272, in collate_tensor_fn\n    return torch.stack(batch, 0, out=out)\n           ^^^^^^^^^^^^^^^^^^^^^^^^^^^^^^\nRuntimeError: stack(): functions with out=... arguments don't support automatic differentiation, but one of the arguments requires grad.\n",
     "output_type": "error",
     "traceback": [
      "\u001b[31m---------------------------------------------------------------------------\u001b[39m",
      "\u001b[31mRuntimeError\u001b[39m                              Traceback (most recent call last)",
      "\u001b[36mCell\u001b[39m\u001b[36m \u001b[39m\u001b[32mIn[12]\u001b[39m\u001b[32m, line 1\u001b[39m\n\u001b[32m----> \u001b[39m\u001b[32m1\u001b[39m \u001b[43mtrain\u001b[49m\u001b[43m(\u001b[49m\u001b[43m)\u001b[49m\n",
      "\u001b[36mCell\u001b[39m\u001b[36m \u001b[39m\u001b[32mIn[9]\u001b[39m\u001b[32m, line 28\u001b[39m, in \u001b[36mtrain\u001b[39m\u001b[34m(batchSize, numEpochs, lr)\u001b[39m\n\u001b[32m     25\u001b[39m passage_model.train()\n\u001b[32m     26\u001b[39m query_model.train()\n\u001b[32m---> \u001b[39m\u001b[32m28\u001b[39m \u001b[43m\u001b[49m\u001b[38;5;28;43;01mfor\u001b[39;49;00m\u001b[43m \u001b[49m\u001b[43mquery\u001b[49m\u001b[43m,\u001b[49m\u001b[43m \u001b[49m\u001b[43mpos\u001b[49m\u001b[43m,\u001b[49m\u001b[43m \u001b[49m\u001b[43mneg\u001b[49m\u001b[43m \u001b[49m\u001b[38;5;129;43;01min\u001b[39;49;00m\u001b[43m \u001b[49m\u001b[43mtqdm\u001b[49m\u001b[43m(\u001b[49m\u001b[43mtrain_loader\u001b[49m\u001b[43m)\u001b[49m\u001b[43m:\u001b[49m\n\u001b[32m     29\u001b[39m \u001b[43m    \u001b[49m\u001b[43mquery\u001b[49m\u001b[43m \u001b[49m\u001b[43m=\u001b[49m\u001b[43m \u001b[49m\u001b[43mquery\u001b[49m\u001b[43m.\u001b[49m\u001b[43mto\u001b[49m\u001b[43m(\u001b[49m\u001b[43mdevice\u001b[49m\u001b[43m)\u001b[49m\n\u001b[32m     30\u001b[39m \u001b[43m    \u001b[49m\u001b[43mpos\u001b[49m\u001b[43m \u001b[49m\u001b[43m=\u001b[49m\u001b[43m \u001b[49m\u001b[43mpos\u001b[49m\u001b[43m.\u001b[49m\u001b[43mto\u001b[49m\u001b[43m(\u001b[49m\u001b[43mdevice\u001b[49m\u001b[43m)\u001b[49m\n",
      "\u001b[36mFile \u001b[39m\u001b[32m~/TwoTowerSearch/week_2/.venv/lib/python3.12/site-packages/tqdm/std.py:1181\u001b[39m, in \u001b[36mtqdm.__iter__\u001b[39m\u001b[34m(self)\u001b[39m\n\u001b[32m   1178\u001b[39m time = \u001b[38;5;28mself\u001b[39m._time\n\u001b[32m   1180\u001b[39m \u001b[38;5;28;01mtry\u001b[39;00m:\n\u001b[32m-> \u001b[39m\u001b[32m1181\u001b[39m \u001b[43m    \u001b[49m\u001b[38;5;28;43;01mfor\u001b[39;49;00m\u001b[43m \u001b[49m\u001b[43mobj\u001b[49m\u001b[43m \u001b[49m\u001b[38;5;129;43;01min\u001b[39;49;00m\u001b[43m \u001b[49m\u001b[43miterable\u001b[49m\u001b[43m:\u001b[49m\n\u001b[32m   1182\u001b[39m \u001b[43m        \u001b[49m\u001b[38;5;28;43;01myield\u001b[39;49;00m\u001b[43m \u001b[49m\u001b[43mobj\u001b[49m\n\u001b[32m   1183\u001b[39m \u001b[43m        \u001b[49m\u001b[38;5;66;43;03m# Update and possibly print the progressbar.\u001b[39;49;00m\n\u001b[32m   1184\u001b[39m \u001b[43m        \u001b[49m\u001b[38;5;66;43;03m# Note: does not call self.update(1) for speed optimisation.\u001b[39;49;00m\n",
      "\u001b[36mFile \u001b[39m\u001b[32m~/TwoTowerSearch/week_2/.venv/lib/python3.12/site-packages/torch/utils/data/dataloader.py:708\u001b[39m, in \u001b[36m_BaseDataLoaderIter.__next__\u001b[39m\u001b[34m(self)\u001b[39m\n\u001b[32m    705\u001b[39m \u001b[38;5;28;01mif\u001b[39;00m \u001b[38;5;28mself\u001b[39m._sampler_iter \u001b[38;5;129;01mis\u001b[39;00m \u001b[38;5;28;01mNone\u001b[39;00m:\n\u001b[32m    706\u001b[39m     \u001b[38;5;66;03m# TODO(https://github.com/pytorch/pytorch/issues/76750)\u001b[39;00m\n\u001b[32m    707\u001b[39m     \u001b[38;5;28mself\u001b[39m._reset()  \u001b[38;5;66;03m# type: ignore[call-arg]\u001b[39;00m\n\u001b[32m--> \u001b[39m\u001b[32m708\u001b[39m data = \u001b[38;5;28;43mself\u001b[39;49m\u001b[43m.\u001b[49m\u001b[43m_next_data\u001b[49m\u001b[43m(\u001b[49m\u001b[43m)\u001b[49m\n\u001b[32m    709\u001b[39m \u001b[38;5;28mself\u001b[39m._num_yielded += \u001b[32m1\u001b[39m\n\u001b[32m    710\u001b[39m \u001b[38;5;28;01mif\u001b[39;00m (\n\u001b[32m    711\u001b[39m     \u001b[38;5;28mself\u001b[39m._dataset_kind == _DatasetKind.Iterable\n\u001b[32m    712\u001b[39m     \u001b[38;5;129;01mand\u001b[39;00m \u001b[38;5;28mself\u001b[39m._IterableDataset_len_called \u001b[38;5;129;01mis\u001b[39;00m \u001b[38;5;129;01mnot\u001b[39;00m \u001b[38;5;28;01mNone\u001b[39;00m\n\u001b[32m    713\u001b[39m     \u001b[38;5;129;01mand\u001b[39;00m \u001b[38;5;28mself\u001b[39m._num_yielded > \u001b[38;5;28mself\u001b[39m._IterableDataset_len_called\n\u001b[32m    714\u001b[39m ):\n",
      "\u001b[36mFile \u001b[39m\u001b[32m~/TwoTowerSearch/week_2/.venv/lib/python3.12/site-packages/torch/utils/data/dataloader.py:1480\u001b[39m, in \u001b[36m_MultiProcessingDataLoaderIter._next_data\u001b[39m\u001b[34m(self)\u001b[39m\n\u001b[32m   1478\u001b[39m \u001b[38;5;28;01mdel\u001b[39;00m \u001b[38;5;28mself\u001b[39m._task_info[idx]\n\u001b[32m   1479\u001b[39m \u001b[38;5;28mself\u001b[39m._rcvd_idx += \u001b[32m1\u001b[39m\n\u001b[32m-> \u001b[39m\u001b[32m1480\u001b[39m \u001b[38;5;28;01mreturn\u001b[39;00m \u001b[38;5;28;43mself\u001b[39;49m\u001b[43m.\u001b[49m\u001b[43m_process_data\u001b[49m\u001b[43m(\u001b[49m\u001b[43mdata\u001b[49m\u001b[43m)\u001b[49m\n",
      "\u001b[36mFile \u001b[39m\u001b[32m~/TwoTowerSearch/week_2/.venv/lib/python3.12/site-packages/torch/utils/data/dataloader.py:1505\u001b[39m, in \u001b[36m_MultiProcessingDataLoaderIter._process_data\u001b[39m\u001b[34m(self, data)\u001b[39m\n\u001b[32m   1503\u001b[39m \u001b[38;5;28mself\u001b[39m._try_put_index()\n\u001b[32m   1504\u001b[39m \u001b[38;5;28;01mif\u001b[39;00m \u001b[38;5;28misinstance\u001b[39m(data, ExceptionWrapper):\n\u001b[32m-> \u001b[39m\u001b[32m1505\u001b[39m     \u001b[43mdata\u001b[49m\u001b[43m.\u001b[49m\u001b[43mreraise\u001b[49m\u001b[43m(\u001b[49m\u001b[43m)\u001b[49m\n\u001b[32m   1506\u001b[39m \u001b[38;5;28;01mreturn\u001b[39;00m data\n",
      "\u001b[36mFile \u001b[39m\u001b[32m~/TwoTowerSearch/week_2/.venv/lib/python3.12/site-packages/torch/_utils.py:733\u001b[39m, in \u001b[36mExceptionWrapper.reraise\u001b[39m\u001b[34m(self)\u001b[39m\n\u001b[32m    729\u001b[39m \u001b[38;5;28;01mexcept\u001b[39;00m \u001b[38;5;167;01mTypeError\u001b[39;00m:\n\u001b[32m    730\u001b[39m     \u001b[38;5;66;03m# If the exception takes multiple arguments, don't try to\u001b[39;00m\n\u001b[32m    731\u001b[39m     \u001b[38;5;66;03m# instantiate since we don't know how to\u001b[39;00m\n\u001b[32m    732\u001b[39m     \u001b[38;5;28;01mraise\u001b[39;00m \u001b[38;5;167;01mRuntimeError\u001b[39;00m(msg) \u001b[38;5;28;01mfrom\u001b[39;00m\u001b[38;5;250m \u001b[39m\u001b[38;5;28;01mNone\u001b[39;00m\n\u001b[32m--> \u001b[39m\u001b[32m733\u001b[39m \u001b[38;5;28;01mraise\u001b[39;00m exception\n",
      "\u001b[31mRuntimeError\u001b[39m: Caught RuntimeError in DataLoader worker process 0.\nOriginal Traceback (most recent call last):\n  File \"/root/TwoTowerSearch/week_2/.venv/lib/python3.12/site-packages/torch/utils/data/_utils/worker.py\", line 349, in _worker_loop\n    data = fetcher.fetch(index)  # type: ignore[possibly-undefined]\n           ^^^^^^^^^^^^^^^^^^^^\n  File \"/root/TwoTowerSearch/week_2/.venv/lib/python3.12/site-packages/torch/utils/data/_utils/fetch.py\", line 55, in fetch\n    return self.collate_fn(data)\n           ^^^^^^^^^^^^^^^^^^^^^\n  File \"/root/TwoTowerSearch/week_2/.venv/lib/python3.12/site-packages/torch/utils/data/_utils/collate.py\", line 398, in default_collate\n    return collate(batch, collate_fn_map=default_collate_fn_map)\n           ^^^^^^^^^^^^^^^^^^^^^^^^^^^^^^^^^^^^^^^^^^^^^^^^^^^^^\n  File \"/root/TwoTowerSearch/week_2/.venv/lib/python3.12/site-packages/torch/utils/data/_utils/collate.py\", line 212, in collate\n    collate(samples, collate_fn_map=collate_fn_map)\n  File \"/root/TwoTowerSearch/week_2/.venv/lib/python3.12/site-packages/torch/utils/data/_utils/collate.py\", line 155, in collate\n    return collate_fn_map[elem_type](batch, collate_fn_map=collate_fn_map)\n           ^^^^^^^^^^^^^^^^^^^^^^^^^^^^^^^^^^^^^^^^^^^^^^^^^^^^^^^^^^^^^^^\n  File \"/root/TwoTowerSearch/week_2/.venv/lib/python3.12/site-packages/torch/utils/data/_utils/collate.py\", line 272, in collate_tensor_fn\n    return torch.stack(batch, 0, out=out)\n           ^^^^^^^^^^^^^^^^^^^^^^^^^^^^^^\nRuntimeError: stack(): functions with out=... arguments don't support automatic differentiation, but one of the arguments requires grad.\n"
     ]
    }
   ],
   "source": [
    "train()"
   ]
  }
 ],
 "metadata": {
  "kernelspec": {
   "display_name": ".venv",
   "language": "python",
   "name": "python3"
  },
  "language_info": {
   "codemirror_mode": {
    "name": "ipython",
    "version": 3
   },
   "file_extension": ".py",
   "mimetype": "text/x-python",
   "name": "python",
   "nbconvert_exporter": "python",
   "pygments_lexer": "ipython3",
   "version": "3.12.10"
  }
 },
 "nbformat": 4,
 "nbformat_minor": 5
}
