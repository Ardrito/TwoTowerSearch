{
 "cells": [
  {
   "cell_type": "code",
   "execution_count": 2,
   "id": "d8892436",
   "metadata": {},
   "outputs": [
    {
     "name": "stderr",
     "output_type": "stream",
     "text": [
      "/root/TwoTowerSearch/week_2/.venv/lib/python3.12/site-packages/tqdm/auto.py:21: TqdmWarning: IProgress not found. Please update jupyter and ipywidgets. See https://ipywidgets.readthedocs.io/en/stable/user_install.html\n",
      "  from .autonotebook import tqdm as notebook_tqdm\n"
     ]
    }
   ],
   "source": [
    "from datasets import load_dataset\n",
    "import random\n",
    "import re\n",
    "from tqdm import tqdm\n",
    "import pickle\n",
    "import pandas as pd\n",
    "import torch\n",
    "import numpy as np\n",
    "from torch.utils.data import Dataset, DataLoader\n",
    "import torch.nn as nn\n",
    "import torch.nn.functional as F\n",
    "import os\n",
    "import torch.optim as optim\n",
    "random.seed(42)\n",
    "torch.manual_seed(42)\n",
    "np.random.seed(42)\n"
   ]
  },
  {
   "cell_type": "code",
   "execution_count": null,
   "id": "573a909f",
   "metadata": {},
   "outputs": [],
   "source": [
    "embedded_marco_train = pd.read_csv(\"embedde_marco_train.csv\")\n",
    "embedded_marco_val = pd.read_csv(\"embedde_marco_val.csv\")\n",
    "embedded_marco_test = pd.read_csv(\"embedde_marco_test.csv\")"
   ]
  },
  {
   "cell_type": "code",
   "execution_count": 4,
   "id": "dd4b2110",
   "metadata": {},
   "outputs": [],
   "source": [
    "class twoTowerDataSet(Dataset):\n",
    "    def __init__(self,marco_splt):\n",
    "        super().__init__()\n",
    "        self.data = marco_splt\n",
    "        self.len = self.data.shape[0]\n",
    "    \n",
    "    def __len__(self):\n",
    "        return len(self.len)\n",
    "    \n",
    "    def __getitem__(self, idx):\n",
    "        randIdx = random.randint(0, self.len)\n",
    "        return self.data[idx][1], self.data[idx][self.data[idx][2].index(1)], self.data[randIdx][3][1]"
   ]
  },
  {
   "cell_type": "code",
   "execution_count": null,
   "id": "73bd96e2",
   "metadata": {},
   "outputs": [],
   "source": [
    "class twoTowerModel(nn.Module):\n",
    "    def __init__(self, embedding_dim=256):\n",
    "        super.__init__()\n",
    "        self.first = nn.Linear(embedding_dim, 128)\n",
    "        self.second = nn.Linear(128, 64)\n",
    "        self.third = nn.Linear(64,1)\n",
    "\n",
    "    def forward(self,X):\n",
    "        outOne = self.first(X)\n",
    "        reluOne = nn.ReLU(outOne)\n",
    "        outTwo = self.second(reluOne)\n",
    "        reluTwo = nn.ReLU(outTwo)\n",
    "        outThree = self.third(reluTwo)\n",
    "\n",
    "        return(outThree)\n",
    "    \n",
    "def contrastiveLoss(query, pos, neg, m=0.6):\n",
    "    cosine_sim_pos = (np.dot(query,pos)/(np.multiply(abs(query),abs(pos))))\n",
    "    cosine_sim_neg = (np.dot(query,neg)/(np.multiply(abs(query),abs(neg))))\n",
    "    return max(0, m - cosine_sim_pos + cosine_sim_neg)"
   ]
  },
  {
   "cell_type": "code",
   "execution_count": 5,
   "id": "0f67fa0d",
   "metadata": {},
   "outputs": [],
   "source": [
    "epoch_val_loss_history = []\n",
    "epoch_train_loss_history = []"
   ]
  },
  {
   "cell_type": "code",
   "execution_count": null,
   "id": "40f72c69",
   "metadata": {},
   "outputs": [],
   "source": [
    "def train(batchSize=64, numEpochs= 20, lr=1e-3 ):\n",
    "    device = device = torch.device(\"cuda\" if torch.cuda.is_available() else \"cpu\")\n",
    "\n",
    "    train_dataset = twoTowerDataSet(embedded_marco_test)\n",
    "    val_dataset = twoTowerDataSet(embedded_marco_val)\n",
    "\n",
    "    train_loader = DataLoader(train_dataset,batch_size=batchSize, shuffle=True, num_workers=2)\n",
    "    val_loader = DataLoader(val_dataset, batch_size=batchSize, shuffle=False, num_workers=2)\n",
    "\n",
    "    passage_model = twoTowerModel().to(device)\n",
    "    query_model = twoTowerModel().to(device)\n",
    "\n",
    "    optimizer = optim.Adam((passage_model.parameters(),query_model.parameters()))\n",
    "\n",
    "    best_loss = float(\"inf\")\n",
    "\n",
    "    epoch_counter = 0\n",
    "\n",
    "    for epoch in range(numEpochs):\n",
    "        #epoch_counter += 1\n",
    "        epoch_train_loss = 0.0\n",
    "\n",
    "        passage_model.train()\n",
    "        query_model.train()\n",
    "        \n",
    "        for query, pos, neg in tqdm(train_loader):\n",
    "            query = query.to(device)\n",
    "            pos = pos.to(device)\n",
    "            neg = neg.to(device)\n",
    "\n",
    "            optimizer.zero_grad()\n",
    "\n",
    "            embedded_query = query_model(query)\n",
    "            embedded_pos = passage_model(pos)\n",
    "            embedded_neg = passage_model(neg)\n",
    "\n",
    "            loss = contrastiveLoss(embedded_query, embedded_pos, embedded_neg)\n",
    "            loss.backward()\n",
    "            optimizer.step()\n",
    "\n",
    "            epoch_train_loss += loss.item()\n",
    "\n",
    "        epoch_val_loss = 0.0\n",
    "\n",
    "        passage_model.eval()\n",
    "        passage_model.eval()\n",
    "\n",
    "        with torch.no_grad():\n",
    "            for query, pos, neg in tqdm(train_loader):\n",
    "                query = query.to(device)\n",
    "                pos = pos.to(device)\n",
    "                neg = neg.to(device)\n",
    "\n",
    "                embedded_query = query_model(query)\n",
    "                embedded_pos = passage_model(pos)\n",
    "                embedded_neg = passage_model(neg)\n",
    "\n",
    "                loss = contrastiveLoss(embedded_query, embedded_pos, embedded_neg)\n",
    "\n",
    "                epoch_val_loss += loss.item()\n",
    "        avg_train_loss = epoch_train_loss/len(train_loader)\n",
    "        avg_val_loss = epoch_val_loss/len(val_loader)\n",
    "\n",
    "        print(f\"\\nEpoch {epoch+1}/{numEpochs} — \" f\"Train Loss: {avg_train_loss} | Val Loss: {avg_val_loss}\")\n",
    "        \n",
    "        if avg_val_loss < best_loss:\n",
    "            best_loss = avg_val_loss\n",
    "            torch.save(query_model.state_dict(), f'checkpoints/bestQuery.pt')\n",
    "            torch.save(passage_model.state_dict(), f'checkpoints/bestPassage.pt')\n",
    "            print(f\"Model improved. Saved.\")\n",
    "\n",
    "\n",
    "\n",
    "\n",
    "    \n",
    "\n",
    "\n"
   ]
  }
 ],
 "metadata": {
  "kernelspec": {
   "display_name": ".venv",
   "language": "python",
   "name": "python3"
  },
  "language_info": {
   "codemirror_mode": {
    "name": "ipython",
    "version": 3
   },
   "file_extension": ".py",
   "mimetype": "text/x-python",
   "name": "python",
   "nbconvert_exporter": "python",
   "pygments_lexer": "ipython3",
   "version": "3.12.10"
  }
 },
 "nbformat": 4,
 "nbformat_minor": 5
}
