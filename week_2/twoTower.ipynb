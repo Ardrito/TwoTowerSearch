{
 "cells": [
  {
   "cell_type": "code",
   "execution_count": 29,
   "id": "d8892436",
   "metadata": {},
   "outputs": [],
   "source": [
    "from datasets import load_dataset\n",
    "import random\n",
    "import re\n",
    "from tqdm import tqdm\n",
    "import pickle\n",
    "import pandas as pd\n",
    "import torch\n",
    "import numpy as np\n",
    "from torch.utils.data import Dataset, DataLoader\n",
    "import torch.nn as nn\n",
    "import torch.nn.functional as F\n",
    "import os\n",
    "import torch.optim as optim\n",
    "from CBOW import CBOW\n",
    "random.seed(42)\n",
    "torch.manual_seed(42)\n",
    "np.random.seed(42)\n"
   ]
  },
  {
   "cell_type": "code",
   "execution_count": 3,
   "id": "573a909f",
   "metadata": {},
   "outputs": [],
   "source": [
    "#marco_test = np.load(\"marco_test.npy\",allow_pickle=True)\n",
    "marco_val = np.load(\"marco_val.npy\",allow_pickle=True)\n",
    "marco_train = np.load(\"marco_train.npy\",allow_pickle=True)"
   ]
  },
  {
   "cell_type": "code",
   "execution_count": 30,
   "id": "0eced135",
   "metadata": {},
   "outputs": [
    {
     "data": {
      "text/plain": [
       "CBOW(\n",
       "  (embed): Embedding(76289, 128)\n",
       "  (lin): Linear(in_features=128, out_features=76289, bias=True)\n",
       ")"
      ]
     },
     "execution_count": 30,
     "metadata": {},
     "output_type": "execute_result"
    }
   ],
   "source": [
    "embedder = CBOW()\n",
    "embedder.load_state_dict(torch.load(\"checkpoints/best.pt\", weights_only=True))\n",
    "embedder.eval()"
   ]
  },
  {
   "cell_type": "code",
   "execution_count": 70,
   "id": "dd4b2110",
   "metadata": {},
   "outputs": [],
   "source": [
    "class twoTowerDataSet(Dataset):\n",
    "    def __init__(self,marco_splt):\n",
    "        self.data = marco_splt\n",
    "        self.len = self.data.shape[0]\n",
    "    \n",
    "    def __len__(self):\n",
    "        return self.len\n",
    "    \n",
    "    def __getitem__(self, idx):\n",
    "        randIdx = random.randint(0, self.len)\n",
    "        row = self.data[idx]\n",
    "        query = torch.tensor(row[1])\n",
    "        selected = row[2].index(1)\n",
    "        pos = torch.tensor(row[selected+2])\n",
    "        neg = torch.tensor(self.data[randIdx][3])\n",
    "        \n",
    "        query = torch.mean(embedder.embed(query),dim=0)\n",
    "        pos = torch.mean(embedder.embed(pos),dim=0)\n",
    "        neg = torch.mean(embedder.embed(neg),dim=0)\n",
    "\n",
    "        # print (\"Query\", query.shape)\n",
    "        # print (\"pos\", pos.shape)\n",
    "        # print (\"neg\", neg.shape)\n",
    "\n",
    "\n",
    "        return query, pos, neg"
   ]
  },
  {
   "cell_type": "code",
   "execution_count": 68,
   "id": "73bd96e2",
   "metadata": {},
   "outputs": [],
   "source": [
    "class twoTowerModel(nn.Module):\n",
    "    def __init__(self, embedding_dim=128):\n",
    "        super().__init__()\n",
    "        self.seq = nn.Sequential(\n",
    "            nn.Linear(embedding_dim, 128),\n",
    "            nn.ReLU(),\n",
    "            nn.Linear(128, 64),\n",
    "            nn.ReLU(),\n",
    "            nn.Linear(64,32)\n",
    "            )\n",
    "\n",
    "    def forward(self,X):\n",
    "        out = self.seq(X)\n",
    "\n",
    "        return(out)\n",
    "    \n",
    "def contrastiveLoss(query, pos, neg, m=0.6):\n",
    "    query = query[0]\n",
    "    pos = pos[0]\n",
    "    neg = neg[0]\n",
    "    cosine_sim_pos = (torch.dot(query,pos)/(torch.multiply(torch.linalg.norm(query),torch.linalg.norm(pos))))\n",
    "    cosine_sim_neg = (torch.dot(query,neg)/(torch.multiply(torch.linalg.norm(query),torch.linalg.norm(neg))))\n",
    "    # print (\"pos\",torch.dot(query,pos))\n",
    "    # print (torch.linalg.norm(query),torch.linalg.norm(pos))\n",
    "    # print (\"neg\", cosine_sim_neg)\n",
    "    return max(0, (m - cosine_sim_pos + cosine_sim_neg))"
   ]
  },
  {
   "cell_type": "code",
   "execution_count": 6,
   "id": "0f67fa0d",
   "metadata": {},
   "outputs": [],
   "source": [
    "epoch_val_loss_history = []\n",
    "epoch_train_loss_history = []"
   ]
  },
  {
   "cell_type": "code",
   "execution_count": null,
   "id": "40f72c69",
   "metadata": {},
   "outputs": [],
   "source": [
    "def train(batchSize=2, numEpochs= 20, lr=1e-3 ):\n",
    "    device = device = torch.device(\"cuda\" if torch.cuda.is_available() else \"cpu\")\n",
    "\n",
    "    train_dataset = twoTowerDataSet(marco_train)\n",
    "    val_dataset = twoTowerDataSet(marco_val)\n",
    "\n",
    "    train_loader = DataLoader(train_dataset,batch_size=batchSize, shuffle=True)\n",
    "    val_loader = DataLoader(val_dataset, batch_size=batchSize, shuffle=False)\n",
    "\n",
    "    passage_model = twoTowerModel().to(device)\n",
    "    query_model = twoTowerModel().to(device)\n",
    "\n",
    "    optimizer = optim.Adam(list(passage_model.parameters()) + list(query_model.parameters()),lr=lr)\n",
    "\n",
    "    best_loss = float(\"inf\")\n",
    "\n",
    "    epoch_counter = 0\n",
    "\n",
    "    for epoch in range(numEpochs):\n",
    "        #epoch_counter += 1\n",
    "        epoch_train_loss = 0.0\n",
    "\n",
    "        passage_model.train()\n",
    "        query_model.train()\n",
    "        \n",
    "        for query, pos, neg in tqdm(train_loader):\n",
    "            query = query.to(device)\n",
    "            pos = pos.to(device)\n",
    "            neg = neg.to(device)\n",
    "\n",
    "            optimizer.zero_grad()\n",
    "\n",
    "            embedded_query = query_model(query)\n",
    "            embedded_pos = passage_model(pos)\n",
    "            embedded_neg = passage_model(neg)\n",
    "\n",
    "            loss = contrastiveLoss(embedded_query, embedded_pos, embedded_neg)\n",
    "            loss.backward()\n",
    "            optimizer.step()\n",
    "\n",
    "            epoch_train_loss += loss.item()\n",
    "\n",
    "        epoch_val_loss = 0.0\n",
    "\n",
    "        passage_model.eval()\n",
    "        passage_model.eval()\n",
    "\n",
    "        with torch.no_grad():\n",
    "            for query, pos, neg in tqdm(train_loader):\n",
    "                query = query.to(device)\n",
    "                pos = pos.to(device)\n",
    "                neg = neg.to(device)\n",
    "\n",
    "                embedded_query = query_model(query)\n",
    "                embedded_pos = passage_model(pos)\n",
    "                embedded_neg = passage_model(neg)\n",
    "\n",
    "                loss = contrastiveLoss(embedded_query, embedded_pos, embedded_neg)\n",
    "\n",
    "                epoch_val_loss += loss.item()\n",
    "        avg_train_loss = epoch_train_loss/len(train_loader)\n",
    "        avg_val_loss = epoch_val_loss/len(val_loader)\n",
    "\n",
    "        print(f\"\\nEpoch {epoch+1}/{numEpochs} — \" f\"Train Loss: {avg_train_loss} | Val Loss: {avg_val_loss}\")\n",
    "        \n",
    "        if avg_val_loss < best_loss:\n",
    "            best_loss = avg_val_loss\n",
    "            torch.save(query_model.state_dict(), f'checkpoints/bestQuery.pt')\n",
    "            torch.save(passage_model.state_dict(), f'checkpoints/bestPassage.pt')\n",
    "            print(f\"Model improved. Saved.\")\n",
    "\n",
    "\n",
    "\n",
    "\n",
    "    \n",
    "\n",
    "\n"
   ]
  },
  {
   "cell_type": "code",
   "execution_count": 71,
   "id": "bd419bb5",
   "metadata": {},
   "outputs": [
    {
     "name": "stderr",
     "output_type": "stream",
     "text": [
      "  0%|          | 2/82326 [00:00<2:09:54, 10.56it/s]"
     ]
    },
    {
     "name": "stderr",
     "output_type": "stream",
     "text": [
      "  0%|          | 58/82326 [00:05<2:21:21,  9.70it/s]\n"
     ]
    },
    {
     "ename": "KeyboardInterrupt",
     "evalue": "",
     "output_type": "error",
     "traceback": [
      "\u001b[31m---------------------------------------------------------------------------\u001b[39m",
      "\u001b[31mKeyboardInterrupt\u001b[39m                         Traceback (most recent call last)",
      "\u001b[36mCell\u001b[39m\u001b[36m \u001b[39m\u001b[32mIn[71]\u001b[39m\u001b[32m, line 1\u001b[39m\n\u001b[32m----> \u001b[39m\u001b[32m1\u001b[39m \u001b[43mtrain\u001b[49m\u001b[43m(\u001b[49m\u001b[43m)\u001b[49m\n",
      "\u001b[36mCell\u001b[39m\u001b[36m \u001b[39m\u001b[32mIn[39]\u001b[39m\u001b[32m, line 38\u001b[39m, in \u001b[36mtrain\u001b[39m\u001b[34m(batchSize, numEpochs, lr)\u001b[39m\n\u001b[32m     35\u001b[39m embedded_neg = passage_model(neg)\n\u001b[32m     37\u001b[39m loss = contrastiveLoss(embedded_query, embedded_pos, embedded_neg)\n\u001b[32m---> \u001b[39m\u001b[32m38\u001b[39m \u001b[43mloss\u001b[49m\u001b[43m.\u001b[49m\u001b[43mbackward\u001b[49m\u001b[43m(\u001b[49m\u001b[43m)\u001b[49m\n\u001b[32m     39\u001b[39m optimizer.step()\n\u001b[32m     41\u001b[39m epoch_train_loss += loss.item()\n",
      "\u001b[36mFile \u001b[39m\u001b[32m~/TwoTowerSearch/week_2/.venv/lib/python3.12/site-packages/torch/_tensor.py:626\u001b[39m, in \u001b[36mTensor.backward\u001b[39m\u001b[34m(self, gradient, retain_graph, create_graph, inputs)\u001b[39m\n\u001b[32m    616\u001b[39m \u001b[38;5;28;01mif\u001b[39;00m has_torch_function_unary(\u001b[38;5;28mself\u001b[39m):\n\u001b[32m    617\u001b[39m     \u001b[38;5;28;01mreturn\u001b[39;00m handle_torch_function(\n\u001b[32m    618\u001b[39m         Tensor.backward,\n\u001b[32m    619\u001b[39m         (\u001b[38;5;28mself\u001b[39m,),\n\u001b[32m   (...)\u001b[39m\u001b[32m    624\u001b[39m         inputs=inputs,\n\u001b[32m    625\u001b[39m     )\n\u001b[32m--> \u001b[39m\u001b[32m626\u001b[39m \u001b[43mtorch\u001b[49m\u001b[43m.\u001b[49m\u001b[43mautograd\u001b[49m\u001b[43m.\u001b[49m\u001b[43mbackward\u001b[49m\u001b[43m(\u001b[49m\n\u001b[32m    627\u001b[39m \u001b[43m    \u001b[49m\u001b[38;5;28;43mself\u001b[39;49m\u001b[43m,\u001b[49m\u001b[43m \u001b[49m\u001b[43mgradient\u001b[49m\u001b[43m,\u001b[49m\u001b[43m \u001b[49m\u001b[43mretain_graph\u001b[49m\u001b[43m,\u001b[49m\u001b[43m \u001b[49m\u001b[43mcreate_graph\u001b[49m\u001b[43m,\u001b[49m\u001b[43m \u001b[49m\u001b[43minputs\u001b[49m\u001b[43m=\u001b[49m\u001b[43minputs\u001b[49m\n\u001b[32m    628\u001b[39m \u001b[43m\u001b[49m\u001b[43m)\u001b[49m\n",
      "\u001b[36mFile \u001b[39m\u001b[32m~/TwoTowerSearch/week_2/.venv/lib/python3.12/site-packages/torch/autograd/__init__.py:347\u001b[39m, in \u001b[36mbackward\u001b[39m\u001b[34m(tensors, grad_tensors, retain_graph, create_graph, grad_variables, inputs)\u001b[39m\n\u001b[32m    342\u001b[39m     retain_graph = create_graph\n\u001b[32m    344\u001b[39m \u001b[38;5;66;03m# The reason we repeat the same comment below is that\u001b[39;00m\n\u001b[32m    345\u001b[39m \u001b[38;5;66;03m# some Python versions print out the first line of a multi-line function\u001b[39;00m\n\u001b[32m    346\u001b[39m \u001b[38;5;66;03m# calls in the traceback and some print out the last line\u001b[39;00m\n\u001b[32m--> \u001b[39m\u001b[32m347\u001b[39m \u001b[43m_engine_run_backward\u001b[49m\u001b[43m(\u001b[49m\n\u001b[32m    348\u001b[39m \u001b[43m    \u001b[49m\u001b[43mtensors\u001b[49m\u001b[43m,\u001b[49m\n\u001b[32m    349\u001b[39m \u001b[43m    \u001b[49m\u001b[43mgrad_tensors_\u001b[49m\u001b[43m,\u001b[49m\n\u001b[32m    350\u001b[39m \u001b[43m    \u001b[49m\u001b[43mretain_graph\u001b[49m\u001b[43m,\u001b[49m\n\u001b[32m    351\u001b[39m \u001b[43m    \u001b[49m\u001b[43mcreate_graph\u001b[49m\u001b[43m,\u001b[49m\n\u001b[32m    352\u001b[39m \u001b[43m    \u001b[49m\u001b[43minputs\u001b[49m\u001b[43m,\u001b[49m\n\u001b[32m    353\u001b[39m \u001b[43m    \u001b[49m\u001b[43mallow_unreachable\u001b[49m\u001b[43m=\u001b[49m\u001b[38;5;28;43;01mTrue\u001b[39;49;00m\u001b[43m,\u001b[49m\n\u001b[32m    354\u001b[39m \u001b[43m    \u001b[49m\u001b[43maccumulate_grad\u001b[49m\u001b[43m=\u001b[49m\u001b[38;5;28;43;01mTrue\u001b[39;49;00m\u001b[43m,\u001b[49m\n\u001b[32m    355\u001b[39m \u001b[43m\u001b[49m\u001b[43m)\u001b[49m\n",
      "\u001b[36mFile \u001b[39m\u001b[32m~/TwoTowerSearch/week_2/.venv/lib/python3.12/site-packages/torch/autograd/graph.py:823\u001b[39m, in \u001b[36m_engine_run_backward\u001b[39m\u001b[34m(t_outputs, *args, **kwargs)\u001b[39m\n\u001b[32m    821\u001b[39m     unregister_hooks = _register_logging_hooks_on_whole_graph(t_outputs)\n\u001b[32m    822\u001b[39m \u001b[38;5;28;01mtry\u001b[39;00m:\n\u001b[32m--> \u001b[39m\u001b[32m823\u001b[39m     \u001b[38;5;28;01mreturn\u001b[39;00m \u001b[43mVariable\u001b[49m\u001b[43m.\u001b[49m\u001b[43m_execution_engine\u001b[49m\u001b[43m.\u001b[49m\u001b[43mrun_backward\u001b[49m\u001b[43m(\u001b[49m\u001b[43m  \u001b[49m\u001b[38;5;66;43;03m# Calls into the C++ engine to run the backward pass\u001b[39;49;00m\n\u001b[32m    824\u001b[39m \u001b[43m        \u001b[49m\u001b[43mt_outputs\u001b[49m\u001b[43m,\u001b[49m\u001b[43m \u001b[49m\u001b[43m*\u001b[49m\u001b[43margs\u001b[49m\u001b[43m,\u001b[49m\u001b[43m \u001b[49m\u001b[43m*\u001b[49m\u001b[43m*\u001b[49m\u001b[43mkwargs\u001b[49m\n\u001b[32m    825\u001b[39m \u001b[43m    \u001b[49m\u001b[43m)\u001b[49m  \u001b[38;5;66;03m# Calls into the C++ engine to run the backward pass\u001b[39;00m\n\u001b[32m    826\u001b[39m \u001b[38;5;28;01mfinally\u001b[39;00m:\n\u001b[32m    827\u001b[39m     \u001b[38;5;28;01mif\u001b[39;00m attach_logging_hooks:\n",
      "\u001b[31mKeyboardInterrupt\u001b[39m: "
     ]
    }
   ],
   "source": [
    "train()"
   ]
  }
 ],
 "metadata": {
  "kernelspec": {
   "display_name": ".venv",
   "language": "python",
   "name": "python3"
  },
  "language_info": {
   "codemirror_mode": {
    "name": "ipython",
    "version": 3
   },
   "file_extension": ".py",
   "mimetype": "text/x-python",
   "name": "python",
   "nbconvert_exporter": "python",
   "pygments_lexer": "ipython3",
   "version": "3.12.10"
  }
 },
 "nbformat": 4,
 "nbformat_minor": 5
}
