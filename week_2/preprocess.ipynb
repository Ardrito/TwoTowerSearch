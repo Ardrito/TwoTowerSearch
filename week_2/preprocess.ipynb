{
 "cells": [
  {
   "cell_type": "code",
   "execution_count": null,
   "id": "add7634a",
   "metadata": {},
   "outputs": [],
   "source": [
    "from datasets import load_dataset\n",
    "import random\n",
    "from tqdm import tqdm\n",
    "\n",
    "random.seed(42)\n"
   ]
  },
  {
   "cell_type": "code",
   "execution_count": 34,
   "id": "e4b06b46",
   "metadata": {},
   "outputs": [
    {
     "data": {
      "text/plain": [
       "3"
      ]
     },
     "execution_count": 34,
     "metadata": {},
     "output_type": "execute_result"
    }
   ],
   "source": [
    "random.randint(0,5)"
   ]
  },
  {
   "cell_type": "code",
   "execution_count": 165,
   "id": "0499b92a",
   "metadata": {},
   "outputs": [],
   "source": [
    "marco_dataset = load_dataset(\"ms_marco\", \"v1.1\")"
   ]
  },
  {
   "cell_type": "code",
   "execution_count": 163,
   "id": "f4af0385",
   "metadata": {},
   "outputs": [
    {
     "name": "stderr",
     "output_type": "stream",
     "text": [
      "[nltk_data] Downloading package punkt_tab to /home/ardrit/nltk_data...\n",
      "[nltk_data]   Unzipping tokenizers/punkt_tab.zip.\n"
     ]
    },
    {
     "data": {
      "text/plain": [
       "True"
      ]
     },
     "execution_count": 163,
     "metadata": {},
     "output_type": "execute_result"
    }
   ],
   "source": [
    "nltk.download('punkt_tab')"
   ]
  },
  {
   "cell_type": "code",
   "execution_count": 4,
   "id": "ae01359d",
   "metadata": {},
   "outputs": [
    {
     "data": {
      "text/plain": [
       "Dataset({\n",
       "    features: ['answers', 'passages', 'query', 'query_id', 'query_type', 'wellFormedAnswers'],\n",
       "    num_rows: 82326\n",
       "})"
      ]
     },
     "execution_count": 4,
     "metadata": {},
     "output_type": "execute_result"
    }
   ],
   "source": [
    "marco_dataset['train']"
   ]
  },
  {
   "cell_type": "code",
   "execution_count": 196,
   "id": "1ee78de9",
   "metadata": {},
   "outputs": [
    {
     "data": {
      "text/plain": [
       "82326"
      ]
     },
     "execution_count": 196,
     "metadata": {},
     "output_type": "execute_result"
    }
   ],
   "source": [
    "len(marco_dataset['train'])\n",
    "# marco_dataset['train'][0]\n",
    "# marco_dataset['test'][0]"
   ]
  },
  {
   "cell_type": "code",
   "execution_count": 193,
   "id": "1b9b415e",
   "metadata": {},
   "outputs": [
    {
     "data": {
      "text/plain": [
       "'The average Walgreens salary ranges from approximately $15,000 per year for Customer Service Associate / Cashier to $179,900 per year for District Manager. Average Walgreens hourly pay ranges from approximately $7.35 per hour for Laboratory Technician to $68.90 per hour for Pharmacy Manager. Salary information comes from 7,810 data points collected directly from employees, users, and jobs on Indeed.'"
      ]
     },
     "execution_count": 193,
     "metadata": {},
     "output_type": "execute_result"
    }
   ],
   "source": [
    "(marco_dataset['validation'][0]['passages']['passage_text'][0])"
   ]
  },
  {
   "cell_type": "code",
   "execution_count": 10,
   "id": "5343bb38",
   "metadata": {},
   "outputs": [],
   "source": [
    "sample = marco_dataset['train'][0]"
   ]
  },
  {
   "cell_type": "code",
   "execution_count": 11,
   "id": "f73c5ebc",
   "metadata": {},
   "outputs": [
    {
     "data": {
      "text/plain": [
       "'what is rba'"
      ]
     },
     "execution_count": 11,
     "metadata": {},
     "output_type": "execute_result"
    }
   ],
   "source": [
    "query = sample['query']\n",
    "    \n",
    "query"
   ]
  },
  {
   "cell_type": "code",
   "execution_count": 16,
   "id": "967b798a",
   "metadata": {},
   "outputs": [
    {
     "data": {
      "text/plain": [
       "5"
      ]
     },
     "execution_count": 16,
     "metadata": {},
     "output_type": "execute_result"
    }
   ],
   "source": [
    "selected = sample['passages']['is_selected']\n",
    "\n",
    "selected.index(1)"
   ]
  },
  {
   "cell_type": "code",
   "execution_count": null,
   "id": "72b8f37b",
   "metadata": {},
   "outputs": [
    {
     "data": {
      "text/plain": [
       "'Results-Based Accountability® (also known as RBA) is a disciplined way of thinking and taking action that communities can use to improve the lives of children, youth, families, adults and the community as a whole. RBA is also used by organizations to improve the performance of their programs. Creating Community Impact with RBA. Community impact focuses on conditions of well-being for children, families and the community as a whole that a group of leaders is working collectively to improve. For example: “Residents with good jobs,” “Children ready for school,” or “A safe and clean neighborhood”.'"
      ]
     },
     "execution_count": 18,
     "metadata": {},
     "output_type": "execute_result"
    }
   ],
   "source": [
    "doc_positive_text = sample['passages']['passage_text'][sample['passages']['is_selected'].index(1)]\n",
    "\n",
    "doc_positive_text"
   ]
  },
  {
   "cell_type": "code",
   "execution_count": 19,
   "id": "ee63772c",
   "metadata": {},
   "outputs": [
    {
     "data": {
      "text/plain": [
       "'http://resultsleadership.org/what-is-results-based-accountability-rba/'"
      ]
     },
     "execution_count": 19,
     "metadata": {},
     "output_type": "execute_result"
    }
   ],
   "source": [
    "doc_positive_url = sample['passages']['url'][sample['passages']['is_selected'].index(1)]\n",
    "\n",
    "doc_positive_url"
   ]
  },
  {
   "cell_type": "code",
   "execution_count": 128,
   "id": "eae83737",
   "metadata": {},
   "outputs": [
    {
     "data": {
      "text/plain": [
       "\"Osteichthyes. Class Osteichthyes (the bony fish) is the largest class of vertebrates with over 20,000 species. The total numbers of fishes exceed that of all other kinds of vertebrates combined. This is not surprising considering four fifths of the earth's surface is covered with water. \""
      ]
     },
     "execution_count": 128,
     "metadata": {},
     "output_type": "execute_result"
    }
   ],
   "source": [
    "def get_random_negative_text(split='train'):\n",
    "    rnd_sample = random.randint(0,len(marco_dataset['train'])-1)\n",
    "\n",
    "    random_sample = marco_dataset[split][rnd_sample]\n",
    "\n",
    "    rnd_idx = random.randint(0,len(random_sample['passages']['passage_text'])-1)\n",
    "    return random_sample['passages']['passage_text'][rnd_idx]\n",
    "\n",
    "get_random_negative_text()"
   ]
  },
  {
   "cell_type": "code",
   "execution_count": 134,
   "id": "784b7d68",
   "metadata": {},
   "outputs": [
    {
     "data": {
      "text/plain": [
       "\"From Wikipedia, the free encyclopedia. A Reagan Democrat is a traditionally Democratic voter in the United States, especially a white working-class Northerner, who defected from their party to support Republican President Ronald Reagan in either or both the 1980 and 1984 elections. During the 1980 election a dramatic number of voters in the U.S., disillusioned with the economic 'malaise' of the 1970s and the presidency of Jimmy Carter (even more than, four years earlier, Liberal Republican Gerald Ford), supported former California governor (and former Democrat) Ronald Reagan.\""
      ]
     },
     "execution_count": 134,
     "metadata": {},
     "output_type": "execute_result"
    }
   ],
   "source": [
    "def get_positive_text(idx, split='train'):\n",
    "    sample = marco_dataset[split][idx]\n",
    "    return sample['passages']['passage_text'][sample['passages']['is_selected'].index(1)]\n",
    "\n",
    "get_positive_text(1)"
   ]
  },
  {
   "cell_type": "code",
   "execution_count": 135,
   "id": "2899957d",
   "metadata": {},
   "outputs": [],
   "source": [
    "def get_XY(idx, split='train'):\n",
    "    positive_text = get_positive_text(idx)\n",
    "    random_negative_text = get_random_negative_text()\n",
    "\n",
    "    return positive_text,random_negative_text"
   ]
  },
  {
   "cell_type": "code",
   "execution_count": 157,
   "id": "756d2b73",
   "metadata": {},
   "outputs": [
    {
     "data": {
      "text/plain": [
       "('Results-Based Accountability® (also known as RBA) is a disciplined way of thinking and taking action that communities can use to improve the lives of children, youth, families, adults and the community as a whole. RBA is also used by organizations to improve the performance of their programs. Creating Community Impact with RBA. Community impact focuses on conditions of well-being for children, families and the community as a whole that a group of leaders is working collectively to improve. For example: “Residents with good jobs,” “Children ready for school,” or “A safe and clean neighborhood”.',\n",
       " 'Most ceiling fans have three to four speeds. The higher the speed, the more amps the motor uses, which equates to more energy use. Different ceiling fan motors are capable of different levels of speed overall as well. For example, the fastest fan motors can run at 0.9 amps while others may run on as little as 0.5 amps.')"
      ]
     },
     "execution_count": 157,
     "metadata": {},
     "output_type": "execute_result"
    }
   ],
   "source": [
    "get_XY(0)"
   ]
  },
  {
   "cell_type": "code",
   "execution_count": 166,
   "id": "6e057a8c",
   "metadata": {},
   "outputs": [
    {
     "data": {
      "text/plain": [
       "'The average Walgreens salary ranges from approximately $15,000 per year for Customer Service Associate / Cashier to $179,900 per year for District Manager. Average Walgreens hourly pay ranges from approximately $7.35 per hour for Laboratory Technician to $68.90 per hour for Pharmacy Manager. Salary information comes from 7,810 data points collected directly from employees, users, and jobs on Indeed.'"
      ]
     },
     "execution_count": 166,
     "metadata": {},
     "output_type": "execute_result"
    }
   ],
   "source": [
    "get_positive_text(0,split='validation')"
   ]
  },
  {
   "cell_type": "code",
   "execution_count": 197,
   "id": "ee5b860d",
   "metadata": {},
   "outputs": [
    {
     "data": {
      "text/plain": [
       "{'is_selected': [1, 0, 0, 0, 0, 0],\n",
       " 'passage_text': ['The average Walgreens salary ranges from approximately $15,000 per year for Customer Service Associate / Cashier to $179,900 per year for District Manager. Average Walgreens hourly pay ranges from approximately $7.35 per hour for Laboratory Technician to $68.90 per hour for Pharmacy Manager. Salary information comes from 7,810 data points collected directly from employees, users, and jobs on Indeed.',\n",
       "  'The average revenue in 2011 of a Starbuck Store was $1,078,000, up  from $1,011,000 in 2010.    The average ticket (total purchase) at domestic Starbuck stores in  No … vember 2007 was reported at $6.36.    In 2008, the average ticket was flat (0.0% change).',\n",
       "  'In fiscal 2014, Walgreens opened a total of 184 new locations and acquired 84 locations, for a net decrease of 273 after relocations and closings. How big are your stores? The average size for a typical Walgreens is about 14,500 square feet and the sales floor averages about 11,000 square feet. How do we select locations for new stores? There are several factors that Walgreens takes into account, such as major intersections, traffic patterns, demographics and locations near hospitals.',\n",
       "  'th store in 1984, reaching $4 billion in sales in 1987, and $5 billion two years later. Walgreens ended the 1980s with 1,484 stores, $5.3 billion in revenues and $154 million in profits. However, profit margins remained just below 3 percent of sales, and returns on assets of less than 10 percent.',\n",
       "  'The number of Walgreen stores has risen from 5,000 in 2005 to more than 8,000 at present. The average square footage per store stood at approximately 10,200 and we forecast the figure to remain constant over our review period. Walgreen earned $303 as average front-end revenue per store square foot in 2012.',\n",
       "  'Your Walgreens Store. Select a store from the search results to make it Your Walgreens Store and save time getting what you need. Your Walgreens Store will be the default location for picking up prescriptions, photos, in store orders and finding deals in the Weekly Ad.'],\n",
       " 'url': ['http://www.indeed.com/cmp/Walgreens/salaries',\n",
       "  \"http://www.answers.com/Q/What_is_the_average_gross_sales_volume_of_a_single_Walgreen's_Store\",\n",
       "  'http://news.walgreens.com/fact-sheets/frequently-asked-questions.htm',\n",
       "  'http://www.babson.edu/executive-education/thought-leadership/retailing/Documents/walgreens-strategic-evolution.pdf',\n",
       "  'http://www.trefis.com/stock/wag/articles/199532/key-trends-driving-walgreens-business/2013-08-07',\n",
       "  'http://www.walgreens.com/storelocator/find.jsp?requestType=locator']}"
      ]
     },
     "execution_count": 197,
     "metadata": {},
     "output_type": "execute_result"
    }
   ],
   "source": [
    "marco_dataset['validation'][0]['passages']"
   ]
  },
  {
   "cell_type": "code",
   "execution_count": 168,
   "id": "fae5cdbb",
   "metadata": {},
   "outputs": [
    {
     "name": "stdout",
     "output_type": "stream",
     "text": [
      "validation\n",
      "train\n",
      "test\n"
     ]
    }
   ],
   "source": [
    "text = []\n",
    "\n",
    "for split in marco_dataset:\n",
    "    print (split)\n",
    "    for sample in marco_dataset[split]:\n",
    "        for words in (sample['passages']['passage_text']):\n",
    "            words_ = (words.lower().split(\" \"))\n",
    "            for word in words_:\n",
    "                text.append(word)\n",
    "            "
   ]
  },
  {
   "cell_type": "code",
   "execution_count": 169,
   "id": "58f16925",
   "metadata": {},
   "outputs": [],
   "source": [
    "unique = set(text)"
   ]
  },
  {
   "cell_type": "code",
   "execution_count": 172,
   "id": "44f799d4",
   "metadata": {},
   "outputs": [
    {
     "name": "stderr",
     "output_type": "stream",
     "text": [
      "  0%|          | 70/1031186 [00:41<171:23:43,  1.67it/s]\n"
     ]
    },
    {
     "ename": "KeyboardInterrupt",
     "evalue": "",
     "output_type": "error",
     "traceback": [
      "\u001b[31m---------------------------------------------------------------------------\u001b[39m",
      "\u001b[31mKeyboardInterrupt\u001b[39m                         Traceback (most recent call last)",
      "\u001b[36mCell\u001b[39m\u001b[36m \u001b[39m\u001b[32mIn[172]\u001b[39m\u001b[32m, line 3\u001b[39m\n\u001b[32m      1\u001b[39m counter = {}\n\u001b[32m      2\u001b[39m \u001b[38;5;28;01mfor\u001b[39;00m word \u001b[38;5;129;01min\u001b[39;00m tqdm(unique):\n\u001b[32m----> \u001b[39m\u001b[32m3\u001b[39m     freq = \u001b[43mtext\u001b[49m\u001b[43m.\u001b[49m\u001b[43mcount\u001b[49m\u001b[43m(\u001b[49m\u001b[43mword\u001b[49m\u001b[43m)\u001b[49m\n\u001b[32m      4\u001b[39m     counter[word] = freq\n",
      "\u001b[31mKeyboardInterrupt\u001b[39m: "
     ]
    }
   ],
   "source": [
    "counter = {}\n",
    "for word in tqdm(unique):\n",
    "    freq = text.count(word)\n",
    "    counter[word] = freq"
   ]
  }
 ],
 "metadata": {
  "kernelspec": {
   "display_name": ".venv",
   "language": "python",
   "name": "python3"
  },
  "language_info": {
   "codemirror_mode": {
    "name": "ipython",
    "version": 3
   },
   "file_extension": ".py",
   "mimetype": "text/x-python",
   "name": "python",
   "nbconvert_exporter": "python",
   "pygments_lexer": "ipython3",
   "version": "3.12.3"
  }
 },
 "nbformat": 4,
 "nbformat_minor": 5
}
