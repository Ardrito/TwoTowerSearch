{
 "cells": [
  {
   "cell_type": "code",
   "execution_count": 1,
   "id": "8e2993c4",
   "metadata": {},
   "outputs": [],
   "source": [
    "import pickle"
   ]
  },
  {
   "cell_type": "code",
   "execution_count": 2,
   "id": "885bafd4",
   "metadata": {},
   "outputs": [],
   "source": [
    "with open(\"tokenized_marco/tokenized_marco_text\",\"rb\") as file:\n",
    "    tokenized_marco_text = pickle.load(file)"
   ]
  },
  {
   "cell_type": "code",
   "execution_count": 4,
   "id": "e5a45a39",
   "metadata": {},
   "outputs": [
    {
     "data": {
      "text/plain": [
       "59849671"
      ]
     },
     "execution_count": 4,
     "metadata": {},
     "output_type": "execute_result"
    }
   ],
   "source": [
    "len(tokenized_marco_text)"
   ]
  }
 ],
 "metadata": {
  "kernelspec": {
   "display_name": ".venv",
   "language": "python",
   "name": "python3"
  },
  "language_info": {
   "codemirror_mode": {
    "name": "ipython",
    "version": 3
   },
   "file_extension": ".py",
   "mimetype": "text/x-python",
   "name": "python",
   "nbconvert_exporter": "python",
   "pygments_lexer": "ipython3",
   "version": "3.12.3"
  }
 },
 "nbformat": 4,
 "nbformat_minor": 5
}
